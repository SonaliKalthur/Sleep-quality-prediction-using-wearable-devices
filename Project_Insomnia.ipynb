{
 "cells": [
  {
   "cell_type": "markdown",
   "metadata": {},
   "source": [
    "# Skin Temperature "
   ]
  },
  {
   "cell_type": "markdown",
   "metadata": {},
   "source": [
    "### Reading Skin Temperature Files from the folder "
   ]
  },
  {
   "cell_type": "code",
   "execution_count": 17,
   "metadata": {
    "collapsed": false
   },
   "outputs": [
    {
     "name": "stdout",
     "output_type": "stream",
     "text": [
      "                          Filename sensor_site          start_time  \\\n",
      "record_id                                                            \n",
      "4091       Upperleg_INS_WI_032_N1     Upperleg 2016-02-19 10:01:00   \n",
      "4092       Upperleg_INS_WI_032_N1     Upperleg 2016-02-19 10:02:00   \n",
      "4093       Upperleg_INS_WI_032_N1     Upperleg 2016-02-19 10:02:00   \n",
      "4094       Upperleg_INS_WI_032_N1     Upperleg 2016-02-19 10:02:00   \n",
      "4095       Upperleg_INS_WI_032_N1     Upperleg 2016-02-19 10:02:00   \n",
      "\n",
      "              subject_id  temp_value  \n",
      "record_id                             \n",
      "4091       INS_WI_032_N1      22.935  \n",
      "4092       INS_WI_032_N1      22.935  \n",
      "4093       INS_WI_032_N1      22.935  \n",
      "4094       INS_WI_032_N1      22.935  \n",
      "4095       INS_WI_032_N1      22.935  \n"
     ]
    }
   ],
   "source": [
    "import pandas as pd\n",
    "import numpy as np  \n",
    "import re\n",
    "\n",
    "##using !ls command to read multiple files from multiple folder\n",
    "data = !ls ./Documents/Semester2/Projects/Insomnia/newskintemp/INS_WI*/*.xlsx\n",
    "\n",
    "master_data = pd.DataFrame()\n",
    "for f in data:\n",
    "##Reading the file in pandas which is in excel format \n",
    "    \n",
    "    file_df = pd.read_excel(f) \n",
    "\n",
    "##Getting the required field of temperature(eg: Fingertip_INS_WI_008_N1 )    \n",
    "    filename = file_df['Unnamed: 1'][2]\n",
    "\n",
    "##Skipping first 24 rows to get the required reading values\n",
    "    column_names = ['start_time','temp_value']\n",
    "    data_df = pd.read_excel(f, names=column_names, skiprows=25)\n",
    "    \n",
    "##Removing Special Characters from temperature to get the consistent value through out\n",
    "    data_df['temp_value']=data_df['temp_value'].replace('°C','',regex=True)  \n",
    "\n",
    "##Assigning the filename to new Field 'Filename' and 'record_num'\n",
    "    data_df['Filename'] = filename\n",
    "    #data_df['Start_time'] = Reading\n",
    "    master_data = master_data.append(data_df)\n",
    "    \n",
    "    master_data.index.name='record_id'\n",
    "    master_data['subject_id']= master_data['Filename'].str.split('_',1).str[1].str.strip() \n",
    "    master_data['sensor_site']= master_data['Filename'].str.split('_',1).str[0].str.strip()\n",
    "    #master_data['Start_time']= master_data['Reading']\n",
    "    #.str.split('_', expand=True,n=1)\n",
    "print(master_data.tail(5))\n",
    "#print(master_data[master_data['start_time']=='Reading'])\n",
    "#print(master_data['Filename'])"
   ]
  },
  {
   "cell_type": "code",
   "execution_count": 20,
   "metadata": {
    "collapsed": false
   },
   "outputs": [
    {
     "name": "stdout",
     "output_type": "stream",
     "text": [
      "              subject_id sensor_site  \\\n",
      "record_id                              \n",
      "0          INS_WI_002_N1     Abdomen   \n",
      "1          INS_WI_002_N1        Calf   \n",
      "2          INS_WI_002_N1       Chest   \n",
      "3          INS_WI_002_N1   Fingertip   \n",
      "4          INS_WI_002_N1        Foot   \n",
      "\n",
      "                                                  temp_value  \\\n",
      "record_id                                                      \n",
      "0          {24.266,24.203,24.266,24.266,24.203,24.266,24....   \n",
      "1          {24.207,24.207,24.207,24.207,24.207,24.207,24....   \n",
      "2          {24.162,24.162,24.225,24.162,24.225,24.225,24....   \n",
      "3          {24.141,24.141,24.141,24.141,24.141,24.141,24....   \n",
      "4          {24.207,24.207,24.207,24.207,24.207,24.207,24....   \n",
      "\n",
      "           sampling_interval          start_time  \n",
      "record_id                                         \n",
      "0                         15 2015-09-16 17:59:00  \n",
      "1                         15 2015-09-16 17:59:00  \n",
      "2                         15 2015-09-16 17:59:00  \n",
      "3                         15 2015-09-16 18:00:00  \n",
      "4                         15 2015-09-16 17:59:00  \n"
     ]
    }
   ],
   "source": [
    "##Group multiple rows by Filename and merge readings into one value\n",
    "master_data['temp_value'] = master_data['temp_value'].astype(str) #Changing the data type of the column Values(temperature recrding value) \n",
    "\n",
    "new_df = pd.DataFrame()\n",
    "new_df = master_data.groupby(['subject_id','sensor_site'])['temp_value'].apply(','.join).reset_index()\n",
    "\n",
    "new_df.index.name='record_id'\n",
    "new_df['sampling_interval'] = 15\n",
    "new_df['start_time'] = master_data['start_time'][2].tolist()\n",
    "new_df['temp_value'] = '{' + new_df['temp_value'] + '}' ## concatenate with starting { and ending with } for array insert\n",
    "\n",
    "print(new_df.head(5))\n",
    "\n",
    "##Copying the data into csv format    \n",
    "    \n",
    "#master_data.to_csv('./Documents/Semester2/Projects/Insomnia/Output_Files/temp4.csv')"
   ]
  },
  {
   "cell_type": "markdown",
   "metadata": {},
   "source": [
    "### Inserting the skin temperature data into postgres database  "
   ]
  },
  {
   "cell_type": "code",
   "execution_count": 21,
   "metadata": {
    "collapsed": false,
    "scrolled": false
   },
   "outputs": [],
   "source": [
    "##inserting the data into database \n",
    "import numpy as np\n",
    "import sqlalchemy\n",
    "from sqlalchemy import Float\n",
    "from sqlalchemy import update\n",
    "from sqlalchemy import exc\n",
    "#from sqlalchemy.engine.base import ResultProxy\n",
    "#from sqlalchemy.sql.expression import cast\n",
    "#from sqlalchemy.dialects.postgresql import *\n",
    "\n",
    "from sqlalchemy import create_engine\n",
    "engine = create_engine('postgresql://localhost:5432/SKalthur')\n",
    "\n",
    "##Commented bcause data has been inserted into postgresql\n",
    "\n",
    "#try:\n",
    "    #new_df.to_sql('skintemperature_recording', engine, if_exists = 'append')\n",
    "#except exc.IntegrityError:\n",
    "#       pass\n",
    "\n"
   ]
  },
  {
   "cell_type": "markdown",
   "metadata": {},
   "source": [
    "# Actigraphy"
   ]
  },
  {
   "cell_type": "markdown",
   "metadata": {},
   "source": [
    "### Retrieving Actigraphy data from Database"
   ]
  },
  {
   "cell_type": "code",
   "execution_count": 142,
   "metadata": {
    "collapsed": false
   },
   "outputs": [
    {
     "name": "stdout",
     "output_type": "stream",
     "text": [
      "   actigraph_id intervaltype  intervalnum   startdate starttime     enddate  \\\n",
      "0            75        DAILY            2  2015-08-18  12:00:00  2015-08-19   \n",
      "1            75        DAILY            3  2015-08-19  12:00:00  2015-08-20   \n",
      "2            75        DAILY            4  2015-08-20  12:00:00  2015-08-21   \n",
      "3            75        DAILY            5  2015-08-21  12:00:00  2015-08-22   \n",
      "4            75        DAILY            6  2015-08-22  12:00:00  2015-08-23   \n",
      "\n",
      "    endtime  duration  totalactivity  avgactivity      ...        \\\n",
      "0  12:00:00    1440.0       387794.0       269.30      ...         \n",
      "1  12:00:00    1440.0       432155.0       300.11      ...         \n",
      "2  12:00:00    1440.0       423224.0       293.91      ...         \n",
      "3  12:00:00    1440.0       298047.0       206.98      ...         \n",
      "4  12:00:00    1440.0       184953.0       128.44      ...         \n",
      "\n",
      "  invtimeactivity invtimesleepwake percentactinv  percentinvsleepwake  \\\n",
      "0             0.0              0.0           0.0                  0.0   \n",
      "1             0.0              0.0           0.0                  0.0   \n",
      "2             0.0              0.0           0.0                  0.0   \n",
      "3             0.0              0.0           0.0                  0.0   \n",
      "4             0.0              0.0           0.0                  0.0   \n",
      "\n",
      "   snoozetime  waketime  percentwake  numwakebouts  percentsleep  \\\n",
      "0        None     849.5        58.99            62         41.01   \n",
      "1        None     929.5        64.55            59         35.45   \n",
      "2        None     992.5        68.92            61         31.08   \n",
      "3        None     699.5        48.58            97         51.42   \n",
      "4        None     634.0        44.03           122         55.97   \n",
      "\n",
      "   numsleepbouts  \n",
      "0             61  \n",
      "1             58  \n",
      "2             60  \n",
      "3             96  \n",
      "4            121  \n",
      "\n",
      "[5 rows x 35 columns]\n"
     ]
    }
   ],
   "source": [
    "##Reading Actigraphy data from Database using Select query\n",
    "acti_df_interval_stat = pd.read_sql_query('select * from \"actiwatch_interval_stats\"',con=engine)\n",
    "print(acti_df_interval_stat.head(5))"
   ]
  },
  {
   "cell_type": "code",
   "execution_count": 143,
   "metadata": {
    "collapsed": false
   },
   "outputs": [
    {
     "name": "stdout",
     "output_type": "stream",
     "text": [
      "   actigraph_id  subject_id subject_age_years subject_gender actiwatch_type  \\\n",
      "0            75  INS_WI_001              None           None    Actiwatch 2   \n",
      "1            76  INS_WI_002              None           None    Actiwatch 2   \n",
      "2            77  INS_WI_003              None           None    Actiwatch 2   \n",
      "3            78  INS_WI_004              None           None    Actiwatch 2   \n",
      "4            79  INS_WI_005              None           None    Actiwatch 2   \n",
      "\n",
      "     collection_start  tz_offset                 logging_mode  \\\n",
      "0 2015-08-17 18:44:00      36000  Activity and Photopic Light   \n",
      "1 2015-09-01 23:59:00      36000  Activity and Photopic Light   \n",
      "2 2015-09-09 06:36:00      36000  Activity and Photopic Light   \n",
      "3 2015-08-26 18:00:00      36000  Activity and Photopic Light   \n",
      "4 2015-08-26 06:15:00      36000  Activity and Photopic Light   \n",
      "\n",
      "   epoch_length_seconds actiwatch_id when_battery_installed  \\\n",
      "0                    30       A13389              1/01/1902   \n",
      "1                    30       A13854              1/01/1902   \n",
      "2                    30       A13581              1/01/1902   \n",
      "3                    30       A14510              1/01/1902   \n",
      "4                    30       A10468              1/01/1902   \n",
      "\n",
      "  actiwatch_fw_version  num_resets  activity_calibration_factor  \\\n",
      "0           01.01.0010           0                           79   \n",
      "1           01.01.0010           2                           79   \n",
      "2           01.01.0010           0                           78   \n",
      "3           01.01.0010           0                           84   \n",
      "4           01.01.0010           4                           81   \n",
      "\n",
      "   white_calibration_factor red_calibration_factor green_calibration_factor  \\\n",
      "0                     22564                   None                     None   \n",
      "1                     25695                   None                     None   \n",
      "2                     23471                   None                     None   \n",
      "3                     21607                   None                     None   \n",
      "4                     23476                   None                     None   \n",
      "\n",
      "  blue_calibration_factor                                      activity_data  \\\n",
      "0                    None  [None, 26, 0, 55, 710, 781, 437, 437, 275, 371...   \n",
      "1                    None  [0, 0, 0, 0, 0, 0, 0, 0, 0, 0, 0, 0, 0, 0, 0, ...   \n",
      "2                    None  [0, 0, 0, 0, 0, 0, 0, 0, 0, 0, 0, 0, 0, 0, 0, ...   \n",
      "3                    None  [139, 190, 154, 172, 5, 11, 227, 143, 32, 3, 2...   \n",
      "4                    None  [0, 0, 0, 0, 0, 0, 0, 0, 0, 0, 0, 0, 0, 0, 0, ...   \n",
      "\n",
      "                                     activity_status  \n",
      "0  {ACTIVE,ACTIVE,ACTIVE,ACTIVE,ACTIVE,ACTIVE,ACT...  \n",
      "1  {ACTIVE,ACTIVE,ACTIVE,ACTIVE,ACTIVE,ACTIVE,ACT...  \n",
      "2  {ACTIVE,ACTIVE,ACTIVE,ACTIVE,ACTIVE,ACTIVE,ACT...  \n",
      "3  {ACTIVE,ACTIVE,ACTIVE,ACTIVE,ACTIVE,ACTIVE,ACT...  \n",
      "4  {ACTIVE,ACTIVE,ACTIVE,ACTIVE,ACTIVE,ACTIVE,ACT...  \n"
     ]
    }
   ],
   "source": [
    "##Reading Actigraphy data from Database\n",
    "acti_df_acti_recording = pd.read_sql_query('select * from \"actiwatch_recording\"',con=engine)\n",
    "print(acti_df_acti_recording.head(5))"
   ]
  },
  {
   "cell_type": "markdown",
   "metadata": {},
   "source": [
    "# PSG"
   ]
  },
  {
   "cell_type": "markdown",
   "metadata": {},
   "source": [
    "### Reading the PSG data from the folder"
   ]
  },
  {
   "cell_type": "code",
   "execution_count": 24,
   "metadata": {
    "collapsed": false
   },
   "outputs": [
    {
     "name": "stdout",
     "output_type": "stream",
     "text": [
      "    No.  Participant Record ID  Participant  PSG File_Name  DOB   Study Date  \\\n",
      "92   93                    149  INS_WI_066             NaN  NaN   13/07/2016   \n",
      "93   94                    157  INS_WI_065             NaN  NaN   20/07/2016   \n",
      "94   95                    158  INS_WI_052             NaN  NaN   20/07/2016   \n",
      "95   96                    150  INS_WI_051             NaN  NaN   14/07/2016   \n",
      "96   97                    161  INS_WI_089             NaN  NaN   10/08/2016   \n",
      "\n",
      "   Study Start_Time Study End_Time  Time in_Bed_min  Sleep Latency_min  \\\n",
      "92            22:43           7:00            476.6               20.2   \n",
      "93            22:33           5:30            395.3               21.7   \n",
      "94            23:00           7:59            492.9               46.9   \n",
      "95             1:40           7:30            345.3                5.0   \n",
      "96            23:19           6:25            383.7               13.8   \n",
      "\n",
      "         ...        REM min REM Percent  Stage 1_min  Stage 1_Percent  \\\n",
      "92       ...           72.5       25.00         21.5             7.40   \n",
      "93       ...           83.8       29.20         15.0             5.20   \n",
      "94       ...           69.5       28.60         46.9            19.30   \n",
      "95       ...           83.8       25.80          7.5             2.30   \n",
      "96       ...            3.0        0.90          7.0             2.20   \n",
      "\n",
      "    Stage 2_min Stage 2_Percent  Stage 3_min Stage 3_Percent  Stage 4_min  \\\n",
      "92         92.0           31.70          NaN           36.00            0   \n",
      "93         90.5           31.50          NaN           34.10            0   \n",
      "94         81.5           33.50          NaN           18.70            0   \n",
      "95        140.5           43.20          NaN           28.70            0   \n",
      "96        190.5           60.10          NaN           36.80            0   \n",
      "\n",
      "   Stage 4_Percent  \n",
      "92            0.00  \n",
      "93            0.00  \n",
      "94            0.00  \n",
      "95            0.00  \n",
      "96            0.00  \n",
      "\n",
      "[5 rows x 26 columns]\n"
     ]
    },
    {
     "data": {
      "text/plain": [
       "(97, 302)"
      ]
     },
     "execution_count": 24,
     "metadata": {},
     "output_type": "execute_result"
    }
   ],
   "source": [
    "##Reading the PSG data from the folder\n",
    "psg_df = pd.read_csv('/Users/SKalthur/Documents/Semester2/Projects/Insomnia/Files_Insomnia/StreamC_PSG300_night1_8-8-2016_v1.csv')\n",
    "psg_df = psg_df.replace('%','',regex=True)\n",
    "psg_df_select = psg_df.ix[:,0:26]\n",
    "print(psg_df_select.tail(5))\n",
    "psg_df.shape"
   ]
  },
  {
   "cell_type": "markdown",
   "metadata": {},
   "source": [
    "### Inserting the psg data to postgres database"
   ]
  },
  {
   "cell_type": "code",
   "execution_count": 25,
   "metadata": {
    "collapsed": false
   },
   "outputs": [
    {
     "ename": "IntegrityError",
     "evalue": "(psycopg2.IntegrityError) duplicate key value violates unique constraint \"psg_data_pkey\"\nDETAIL:  Key (\"Participant\")=(FL102 ) already exists.\n [SQL: 'INSERT INTO psg_data (index, \"No.\", \"Participant Record ID\", \"Participant\", \"PSG File_Name\", \"DOB\", \"Study Date\", \"Study Start_Time\", \"Study End_Time\", \"Time in_Bed_min\", \"Sleep Latency_min\", \"REM Latency_min\", \"Sleep Efficiency_Percent\", \"Total Time_Awake_During_Sleep_Period_min\", \"Total Sleep_Time_min\", \"NREM min\", \"NREM Percent\", \"REM min\", \"REM Percent\", \"Stage 1_min\", \"Stage 1_Percent\", \"Stage 2_min\", \"Stage 2_Percent\", \"Stage 3_min\", \"Stage 3_Percent\", \"Stage 4_min\", \"Stage 4_Percent\") VALUES (%(index)s, %(No.)s, %(Participant Record ID)s, %(Participant)s, %(PSG File_Name)s, %(DOB)s, %(Study Date)s, %(Study Start_Time)s, %(Study End_Time)s, %(Time in_Bed_min)s, %(Sleep Latency_min)s, %(REM Latency_min)s, %(Sleep Efficiency_Percent)s, %(Total Time_Awake_During_Sleep_Period_min)s, %(Total Sleep_Time_min)s, %(NREM min)s, %(NREM Percent)s, %(REM min)s, %(REM Percent)s, %(Stage 1_min)s, %(Stage 1_Percent)s, %(Stage 2_min)s, %(Stage 2_Percent)s, %(Stage 3_min)s, %(Stage 3_Percent)s, %(Stage 4_min)s, %(Stage 4_Percent)s)'] [parameters: ({'REM min': 44.5, 'Stage 3_min': 29.0, 'Time in_Bed_min': 416.5, 'Stage 3_Percent': '10.3', 'REM Percent': '15.8', 'NREM min': 238.0, 'Stage 1_min': 59.0, 'REM Latency_min': 109.5, 'Stage 2_Percent': '53.1', 'index': 0, 'PSG File_Name': None, 'Total Time_Awake_During_Sleep_Period_min': 83.5, 'Total Sleep_Time_min': 282.5, 'Stage 2_min': 150.0, 'Study Start_Time': '20:43:24', 'Participant Record ID': 147, 'Stage 1_Percent': '20.9', 'Sleep Efficiency_Percent': '67.8', 'Sleep Latency_min': 1.5, 'Stage 4_Percent': '0', 'Study End_Time': '7:00:53', 'NREM Percent': '84.2', 'Study Date': '31/07/2016', 'Stage 4_min': 0, 'Participant': 'FL102 ', 'No.': 1, 'DOB': '7/06/1948'}, {'REM min': 79.5, 'Stage 3_min': 94.5, 'Time in_Bed_min': 414.0, 'Stage 3_Percent': '26', 'REM Percent': '21.9', 'NREM min': 284.0, 'Stage 1_min': 28.5, 'REM Latency_min': 80.0, 'Stage 2_Percent': '44.3', 'index': 1, 'PSG File_Name': None, 'Total Time_Awake_During_Sleep_Period_min': 15.0, 'Total Sleep_Time_min': 363.5, 'Stage 2_min': 161.0, 'Study Start_Time': '22:07:26', 'Participant Record ID': 145, 'Stage 1_Percent': '7.8', 'Sleep Efficiency_Percent': '87.8', 'Sleep Latency_min': 34.0, 'Stage 4_Percent': '0', 'Study End_Time': '7:17:55', 'NREM Percent': '78.1', 'Study Date': '24/07/2016', 'Stage 4_min': 0, 'Participant': 'FL101 ', 'No.': 2, 'DOB': '20/08/1997'}, {'REM min': 18.0, 'Stage 3_min': 29.5, 'Time in_Bed_min': 359.0, 'Stage 3_Percent': '18.9', 'REM Percent': '11.5', 'NREM min': 138.0, 'Stage 1_min': 20.5, 'REM Latency_min': 209.5, 'Stage 2_Percent': '56.4', 'index': 2, 'PSG File_Name': None, 'Total Time_Awake_During_Sleep_Period_min': 156.5, 'Total Sleep_Time_min': 156.0, 'Stage 2_min': 88.0, 'Study Start_Time': '23:52:27', 'Participant Record ID': 146, 'Stage 1_Percent': '13.1', 'Sleep Efficiency_Percent': '43.5', 'Sleep Latency_min': 30.5, 'Stage 4_Percent': '0', 'Study End_Time': '6:07:26', 'NREM Percent': '88.5', 'Study Date': '24/07/2016', 'Stage 4_min': 0, 'Participant': 'FL107 ', 'No.': 3, 'DOB': '18/08/1958'}, {'REM min': 58.5, 'Stage 3_min': 29.0, 'Time in_Bed_min': 407.5, 'Stage 3_Percent': '10.7', 'REM Percent': '21.5', 'NREM min': 213.0, 'Stage 1_min': 43.0, 'REM Latency_min': 130.0, 'Stage 2_Percent': '51.9', 'index': 3, 'PSG File_Name': None, 'Total Time_Awake_During_Sleep_Period_min': 105.0, 'Total Sleep_Time_min': 271.5, 'Stage 2_min': 141.0, 'Study Start_Time': '23:24:05', 'Participant Record ID': 134, 'Stage 1_Percent': '15.8', 'Sleep Efficiency_Percent': '66.6', 'Sleep Latency_min': 20.0, 'Stage 4_Percent': '0', 'Study End_Time': '7:13:04', 'NREM Percent': '78.5', 'Study Date': '26/06/2016', 'Stage 4_min': 0, 'Participant': 'FL100 ', 'No.': 4, 'DOB': '13/07/1975'}, {'REM min': 89.0, 'Stage 3_min': 30.0, 'Time in_Bed_min': 480.5, 'Stage 3_Percent': '6.8', 'REM Percent': '20.3', 'NREM min': 349.5, 'Stage 1_min': 37.5, 'REM Latency_min': 78.0, 'Stage 2_Percent': '64.3', 'index': 4, 'PSG File_Name': None, 'Total Time_Awake_During_Sleep_Period_min': 25.0, 'Total Sleep_Time_min': 438.5, 'Stage 2_min': 282.0, 'Study Start_Time': '21:43:15', 'Participant Record ID': 133, 'Stage 1_Percent': '8.6', 'Sleep Efficiency_Percent': '91.3', 'Sleep Latency_min': 16.5, 'Stage 4_Percent': '0', 'Study End_Time': '7:19:14', 'NREM Percent': '79.7', 'Study Date': '12/06/2016', 'Stage 4_min': 0, 'Participant': 'FL098 ', 'No.': 5, 'DOB': '15/08/1972'}, {'REM min': 59.5, 'Stage 3_min': 5.0, 'Time in_Bed_min': 407.0, 'Stage 3_Percent': '1.4', 'REM Percent': '16.1', 'NREM min': 309.0, 'Stage 1_min': 28.5, 'REM Latency_min': 123.5, 'Stage 2_Percent': '74.8', 'index': 5, 'PSG File_Name': None, 'Total Time_Awake_During_Sleep_Period_min': 15.0, 'Total Sleep_Time_min': 368.5, 'Stage 2_min': 275.5, 'Study Start_Time': '22:58:26', 'Participant Record ID': 129, 'Stage 1_Percent': '7.7', 'Sleep Efficiency_Percent': '90.5', 'Sleep Latency_min': 23.5, 'Stage 4_Percent': '0', 'Study End_Time': '6:51:55', 'NREM Percent': '83.9', 'Study Date': '5/06/2016', 'Stage 4_min': 0, 'Participant': 'FL085 ', 'No.': 6, 'DOB': '16/04/1960'}, {'REM min': 42.5, 'Stage 3_min': 56.5, 'Time in_Bed_min': 452.5, 'Stage 3_Percent': '18.6', 'REM Percent': '14', 'NREM min': 261.5, 'Stage 1_min': 24.5, 'REM Latency_min': 79.5, 'Stage 2_Percent': '59.4', 'index': 6, 'PSG File_Name': None, 'Total Time_Awake_During_Sleep_Period_min': 75.5, 'Total Sleep_Time_min': 304.0, 'Stage 2_min': 180.5, 'Study Start_Time': '23:39:38', 'Participant Record ID': 128, 'Stage 1_Percent': '8.1', 'Sleep Efficiency_Percent': '67.2', 'Sleep Latency_min': 17.5, 'Stage 4_Percent': '0', 'Study End_Time': '7:12:07', 'NREM Percent': '86', 'Study Date': '1/06/2016', 'Stage 4_min': 0, 'Participant': 'FL088 ', 'No.': 7, 'DOB': '17/12/1946'}, {'REM min': 69.0, 'Stage 3_min': 95.5, 'Time in_Bed_min': 479.5, 'Stage 3_Percent': '29.3', 'REM Percent': '21.2', 'NREM min': 257.0, 'Stage 1_min': 22.5, 'REM Latency_min': 111.0, 'Stage 2_Percent': '42.6', 'index': 7, 'PSG File_Name': None, 'Total Time_Awake_During_Sleep_Period_min': 57.5, 'Total Sleep_Time_min': 326.0, 'Stage 2_min': 139.0, 'Study Start_Time': '22:56:59', 'Participant Record ID': 126, 'Stage 1_Percent': '6.9', 'Sleep Efficiency_Percent': '68', 'Sleep Latency_min': 6.5, 'Stage 4_Percent': '0', 'Study End_Time': '6:56:28', 'NREM Percent': '78.8', 'Study Date': '1/06/2016', 'Stage 4_min': 0, 'Participant': 'FL091 ', 'No.': 8, 'DOB': '27/03/1963'}  ... displaying 10 of 97 total bound parameter sets ...  {'REM min': 83.8, 'Stage 3_min': None, 'Time in_Bed_min': 345.3, 'Stage 3_Percent': '28.70', 'REM Percent': '25.80', 'NREM min': 241.5, 'Stage 1_min': 7.5, 'REM Latency_min': 53.0, 'Stage 2_Percent': '43.20', 'index': 95, 'PSG File_Name': None, 'Total Time_Awake_During_Sleep_Period_min': 20.0, 'Total Sleep_Time_min': 325.3, 'Stage 2_min': 140.5, 'Study Start_Time': ' 1:40', 'Participant Record ID': 150, 'Stage 1_Percent': '2.30', 'Sleep Efficiency_Percent': '92.90', 'Sleep Latency_min': 5.0, 'Stage 4_Percent': '0.00', 'Study End_Time': ' 7:30', 'NREM Percent': '74.20', 'Study Date': ' 14/07/2016', 'Stage 4_min': 0, 'Participant': 'INS_WI_051 ', 'No.': 96, 'DOB': None}, {'REM min': 3.0, 'Stage 3_min': None, 'Time in_Bed_min': 383.7, 'Stage 3_Percent': '36.80', 'REM Percent': '0.90', 'NREM min': 314.0, 'Stage 1_min': 7.0, 'REM Latency_min': 407.3, 'Stage 2_Percent': '60.10', 'index': 96, 'PSG File_Name': None, 'Total Time_Awake_During_Sleep_Period_min': 66.7, 'Total Sleep_Time_min': 317.0, 'Stage 2_min': 190.5, 'Study Start_Time': ' 23:19', 'Participant Record ID': 161, 'Stage 1_Percent': '2.20', 'Sleep Efficiency_Percent': '74.30', 'Sleep Latency_min': 13.8, 'Stage 4_Percent': '0.00', 'Study End_Time': ' 6:25', 'NREM Percent': '99.10', 'Study Date': ' 10/08/2016', 'Stage 4_min': 0, 'Participant': 'INS_WI_089 ', 'No.': 97, 'DOB': None})]",
     "output_type": "error",
     "traceback": [
      "\u001b[0;31m---------------------------------------------------------------------------\u001b[0m",
      "\u001b[0;31mIntegrityError\u001b[0m                            Traceback (most recent call last)",
      "\u001b[0;32m/Users/SKalthur/anaconda/lib/python3.5/site-packages/sqlalchemy/engine/base.py\u001b[0m in \u001b[0;36m_execute_context\u001b[0;34m(self, dialect, constructor, statement, parameters, *args)\u001b[0m\n\u001b[1;32m   1115\u001b[0m                         \u001b[0mparameters\u001b[0m\u001b[0;34m,\u001b[0m\u001b[0;34m\u001b[0m\u001b[0m\n\u001b[0;32m-> 1116\u001b[0;31m                         context)\n\u001b[0m\u001b[1;32m   1117\u001b[0m             \u001b[0;32melif\u001b[0m \u001b[0;32mnot\u001b[0m \u001b[0mparameters\u001b[0m \u001b[0;32mand\u001b[0m \u001b[0mcontext\u001b[0m\u001b[0;34m.\u001b[0m\u001b[0mno_parameters\u001b[0m\u001b[0;34m:\u001b[0m\u001b[0;34m\u001b[0m\u001b[0m\n",
      "\u001b[0;32m/Users/SKalthur/anaconda/lib/python3.5/site-packages/sqlalchemy/engine/default.py\u001b[0m in \u001b[0;36mdo_executemany\u001b[0;34m(self, cursor, statement, parameters, context)\u001b[0m\n\u001b[1;32m    446\u001b[0m     \u001b[0;32mdef\u001b[0m \u001b[0mdo_executemany\u001b[0m\u001b[0;34m(\u001b[0m\u001b[0mself\u001b[0m\u001b[0;34m,\u001b[0m \u001b[0mcursor\u001b[0m\u001b[0;34m,\u001b[0m \u001b[0mstatement\u001b[0m\u001b[0;34m,\u001b[0m \u001b[0mparameters\u001b[0m\u001b[0;34m,\u001b[0m \u001b[0mcontext\u001b[0m\u001b[0;34m=\u001b[0m\u001b[0;32mNone\u001b[0m\u001b[0;34m)\u001b[0m\u001b[0;34m:\u001b[0m\u001b[0;34m\u001b[0m\u001b[0m\n\u001b[0;32m--> 447\u001b[0;31m         \u001b[0mcursor\u001b[0m\u001b[0;34m.\u001b[0m\u001b[0mexecutemany\u001b[0m\u001b[0;34m(\u001b[0m\u001b[0mstatement\u001b[0m\u001b[0;34m,\u001b[0m \u001b[0mparameters\u001b[0m\u001b[0;34m)\u001b[0m\u001b[0;34m\u001b[0m\u001b[0m\n\u001b[0m\u001b[1;32m    448\u001b[0m \u001b[0;34m\u001b[0m\u001b[0m\n",
      "\u001b[0;31mIntegrityError\u001b[0m: duplicate key value violates unique constraint \"psg_data_pkey\"\nDETAIL:  Key (\"Participant\")=(FL102 ) already exists.\n",
      "\nThe above exception was the direct cause of the following exception:\n",
      "\u001b[0;31mIntegrityError\u001b[0m                            Traceback (most recent call last)",
      "\u001b[0;32m<ipython-input-25-29ed4f13f580>\u001b[0m in \u001b[0;36m<module>\u001b[0;34m()\u001b[0m\n\u001b[1;32m      4\u001b[0m \u001b[0mengine\u001b[0m \u001b[0;34m=\u001b[0m \u001b[0mcreate_engine\u001b[0m\u001b[0;34m(\u001b[0m\u001b[0;34m'postgresql://localhost:5432/SKalthur'\u001b[0m\u001b[0;34m)\u001b[0m\u001b[0;34m\u001b[0m\u001b[0m\n\u001b[1;32m      5\u001b[0m \u001b[0;31m#engine.execute(\"SET DateStyle ='mdy'\")\u001b[0m\u001b[0;34m\u001b[0m\u001b[0;34m\u001b[0m\u001b[0m\n\u001b[0;32m----> 6\u001b[0;31m \u001b[0mpsg_df_select\u001b[0m\u001b[0;34m.\u001b[0m\u001b[0mto_sql\u001b[0m\u001b[0;34m(\u001b[0m\u001b[0;34m'psg_data'\u001b[0m\u001b[0;34m,\u001b[0m \u001b[0mengine\u001b[0m\u001b[0;34m,\u001b[0m \u001b[0mif_exists\u001b[0m \u001b[0;34m=\u001b[0m \u001b[0;34m'append'\u001b[0m\u001b[0;34m)\u001b[0m\u001b[0;34m\u001b[0m\u001b[0m\n\u001b[0m",
      "\u001b[0;32m/Users/SKalthur/anaconda/lib/python3.5/site-packages/pandas/core/generic.py\u001b[0m in \u001b[0;36mto_sql\u001b[0;34m(self, name, con, flavor, schema, if_exists, index, index_label, chunksize, dtype)\u001b[0m\n\u001b[1;32m   1163\u001b[0m         sql.to_sql(self, name, con, flavor=flavor, schema=schema,\n\u001b[1;32m   1164\u001b[0m                    \u001b[0mif_exists\u001b[0m\u001b[0;34m=\u001b[0m\u001b[0mif_exists\u001b[0m\u001b[0;34m,\u001b[0m \u001b[0mindex\u001b[0m\u001b[0;34m=\u001b[0m\u001b[0mindex\u001b[0m\u001b[0;34m,\u001b[0m \u001b[0mindex_label\u001b[0m\u001b[0;34m=\u001b[0m\u001b[0mindex_label\u001b[0m\u001b[0;34m,\u001b[0m\u001b[0;34m\u001b[0m\u001b[0m\n\u001b[0;32m-> 1165\u001b[0;31m                    chunksize=chunksize, dtype=dtype)\n\u001b[0m\u001b[1;32m   1166\u001b[0m \u001b[0;34m\u001b[0m\u001b[0m\n\u001b[1;32m   1167\u001b[0m     \u001b[0;32mdef\u001b[0m \u001b[0mto_pickle\u001b[0m\u001b[0;34m(\u001b[0m\u001b[0mself\u001b[0m\u001b[0;34m,\u001b[0m \u001b[0mpath\u001b[0m\u001b[0;34m)\u001b[0m\u001b[0;34m:\u001b[0m\u001b[0;34m\u001b[0m\u001b[0m\n",
      "\u001b[0;32m/Users/SKalthur/anaconda/lib/python3.5/site-packages/pandas/io/sql.py\u001b[0m in \u001b[0;36mto_sql\u001b[0;34m(frame, name, con, flavor, schema, if_exists, index, index_label, chunksize, dtype)\u001b[0m\n\u001b[1;32m    569\u001b[0m     pandas_sql.to_sql(frame, name, if_exists=if_exists, index=index,\n\u001b[1;32m    570\u001b[0m                       \u001b[0mindex_label\u001b[0m\u001b[0;34m=\u001b[0m\u001b[0mindex_label\u001b[0m\u001b[0;34m,\u001b[0m \u001b[0mschema\u001b[0m\u001b[0;34m=\u001b[0m\u001b[0mschema\u001b[0m\u001b[0;34m,\u001b[0m\u001b[0;34m\u001b[0m\u001b[0m\n\u001b[0;32m--> 571\u001b[0;31m                       chunksize=chunksize, dtype=dtype)\n\u001b[0m\u001b[1;32m    572\u001b[0m \u001b[0;34m\u001b[0m\u001b[0m\n\u001b[1;32m    573\u001b[0m \u001b[0;34m\u001b[0m\u001b[0m\n",
      "\u001b[0;32m/Users/SKalthur/anaconda/lib/python3.5/site-packages/pandas/io/sql.py\u001b[0m in \u001b[0;36mto_sql\u001b[0;34m(self, frame, name, if_exists, index, index_label, schema, chunksize, dtype)\u001b[0m\n\u001b[1;32m   1248\u001b[0m                          schema=schema, dtype=dtype)\n\u001b[1;32m   1249\u001b[0m         \u001b[0mtable\u001b[0m\u001b[0;34m.\u001b[0m\u001b[0mcreate\u001b[0m\u001b[0;34m(\u001b[0m\u001b[0;34m)\u001b[0m\u001b[0;34m\u001b[0m\u001b[0m\n\u001b[0;32m-> 1250\u001b[0;31m         \u001b[0mtable\u001b[0m\u001b[0;34m.\u001b[0m\u001b[0minsert\u001b[0m\u001b[0;34m(\u001b[0m\u001b[0mchunksize\u001b[0m\u001b[0;34m)\u001b[0m\u001b[0;34m\u001b[0m\u001b[0m\n\u001b[0m\u001b[1;32m   1251\u001b[0m         \u001b[0;32mif\u001b[0m \u001b[0;34m(\u001b[0m\u001b[0;32mnot\u001b[0m \u001b[0mname\u001b[0m\u001b[0;34m.\u001b[0m\u001b[0misdigit\u001b[0m\u001b[0;34m(\u001b[0m\u001b[0;34m)\u001b[0m \u001b[0;32mand\u001b[0m \u001b[0;32mnot\u001b[0m \u001b[0mname\u001b[0m\u001b[0;34m.\u001b[0m\u001b[0mislower\u001b[0m\u001b[0;34m(\u001b[0m\u001b[0;34m)\u001b[0m\u001b[0;34m)\u001b[0m\u001b[0;34m:\u001b[0m\u001b[0;34m\u001b[0m\u001b[0m\n\u001b[1;32m   1252\u001b[0m             \u001b[0;31m# check for potentially case sensitivity issues (GH7815)\u001b[0m\u001b[0;34m\u001b[0m\u001b[0;34m\u001b[0m\u001b[0m\n",
      "\u001b[0;32m/Users/SKalthur/anaconda/lib/python3.5/site-packages/pandas/io/sql.py\u001b[0m in \u001b[0;36minsert\u001b[0;34m(self, chunksize)\u001b[0m\n\u001b[1;32m    768\u001b[0m \u001b[0;34m\u001b[0m\u001b[0m\n\u001b[1;32m    769\u001b[0m                 \u001b[0mchunk_iter\u001b[0m \u001b[0;34m=\u001b[0m \u001b[0mzip\u001b[0m\u001b[0;34m(\u001b[0m\u001b[0;34m*\u001b[0m\u001b[0;34m[\u001b[0m\u001b[0marr\u001b[0m\u001b[0;34m[\u001b[0m\u001b[0mstart_i\u001b[0m\u001b[0;34m:\u001b[0m\u001b[0mend_i\u001b[0m\u001b[0;34m]\u001b[0m \u001b[0;32mfor\u001b[0m \u001b[0marr\u001b[0m \u001b[0;32min\u001b[0m \u001b[0mdata_list\u001b[0m\u001b[0;34m]\u001b[0m\u001b[0;34m)\u001b[0m\u001b[0;34m\u001b[0m\u001b[0m\n\u001b[0;32m--> 770\u001b[0;31m                 \u001b[0mself\u001b[0m\u001b[0;34m.\u001b[0m\u001b[0m_execute_insert\u001b[0m\u001b[0;34m(\u001b[0m\u001b[0mconn\u001b[0m\u001b[0;34m,\u001b[0m \u001b[0mkeys\u001b[0m\u001b[0;34m,\u001b[0m \u001b[0mchunk_iter\u001b[0m\u001b[0;34m)\u001b[0m\u001b[0;34m\u001b[0m\u001b[0m\n\u001b[0m\u001b[1;32m    771\u001b[0m \u001b[0;34m\u001b[0m\u001b[0m\n\u001b[1;32m    772\u001b[0m     def _query_iterator(self, result, chunksize, columns, coerce_float=True,\n",
      "\u001b[0;32m/Users/SKalthur/anaconda/lib/python3.5/site-packages/pandas/io/sql.py\u001b[0m in \u001b[0;36m_execute_insert\u001b[0;34m(self, conn, keys, data_iter)\u001b[0m\n\u001b[1;32m    743\u001b[0m     \u001b[0;32mdef\u001b[0m \u001b[0m_execute_insert\u001b[0m\u001b[0;34m(\u001b[0m\u001b[0mself\u001b[0m\u001b[0;34m,\u001b[0m \u001b[0mconn\u001b[0m\u001b[0;34m,\u001b[0m \u001b[0mkeys\u001b[0m\u001b[0;34m,\u001b[0m \u001b[0mdata_iter\u001b[0m\u001b[0;34m)\u001b[0m\u001b[0;34m:\u001b[0m\u001b[0;34m\u001b[0m\u001b[0m\n\u001b[1;32m    744\u001b[0m         \u001b[0mdata\u001b[0m \u001b[0;34m=\u001b[0m \u001b[0;34m[\u001b[0m\u001b[0mdict\u001b[0m\u001b[0;34m(\u001b[0m\u001b[0;34m(\u001b[0m\u001b[0mk\u001b[0m\u001b[0;34m,\u001b[0m \u001b[0mv\u001b[0m\u001b[0;34m)\u001b[0m \u001b[0;32mfor\u001b[0m \u001b[0mk\u001b[0m\u001b[0;34m,\u001b[0m \u001b[0mv\u001b[0m \u001b[0;32min\u001b[0m \u001b[0mzip\u001b[0m\u001b[0;34m(\u001b[0m\u001b[0mkeys\u001b[0m\u001b[0;34m,\u001b[0m \u001b[0mrow\u001b[0m\u001b[0;34m)\u001b[0m\u001b[0;34m)\u001b[0m \u001b[0;32mfor\u001b[0m \u001b[0mrow\u001b[0m \u001b[0;32min\u001b[0m \u001b[0mdata_iter\u001b[0m\u001b[0;34m]\u001b[0m\u001b[0;34m\u001b[0m\u001b[0m\n\u001b[0;32m--> 745\u001b[0;31m         \u001b[0mconn\u001b[0m\u001b[0;34m.\u001b[0m\u001b[0mexecute\u001b[0m\u001b[0;34m(\u001b[0m\u001b[0mself\u001b[0m\u001b[0;34m.\u001b[0m\u001b[0minsert_statement\u001b[0m\u001b[0;34m(\u001b[0m\u001b[0;34m)\u001b[0m\u001b[0;34m,\u001b[0m \u001b[0mdata\u001b[0m\u001b[0;34m)\u001b[0m\u001b[0;34m\u001b[0m\u001b[0m\n\u001b[0m\u001b[1;32m    746\u001b[0m \u001b[0;34m\u001b[0m\u001b[0m\n\u001b[1;32m    747\u001b[0m     \u001b[0;32mdef\u001b[0m \u001b[0minsert\u001b[0m\u001b[0;34m(\u001b[0m\u001b[0mself\u001b[0m\u001b[0;34m,\u001b[0m \u001b[0mchunksize\u001b[0m\u001b[0;34m=\u001b[0m\u001b[0;32mNone\u001b[0m\u001b[0;34m)\u001b[0m\u001b[0;34m:\u001b[0m\u001b[0;34m\u001b[0m\u001b[0m\n",
      "\u001b[0;32m/Users/SKalthur/anaconda/lib/python3.5/site-packages/sqlalchemy/engine/base.py\u001b[0m in \u001b[0;36mexecute\u001b[0;34m(self, object, *multiparams, **params)\u001b[0m\n\u001b[1;32m    912\u001b[0m                 type(object))\n\u001b[1;32m    913\u001b[0m         \u001b[0;32melse\u001b[0m\u001b[0;34m:\u001b[0m\u001b[0;34m\u001b[0m\u001b[0m\n\u001b[0;32m--> 914\u001b[0;31m             \u001b[0;32mreturn\u001b[0m \u001b[0mmeth\u001b[0m\u001b[0;34m(\u001b[0m\u001b[0mself\u001b[0m\u001b[0;34m,\u001b[0m \u001b[0mmultiparams\u001b[0m\u001b[0;34m,\u001b[0m \u001b[0mparams\u001b[0m\u001b[0;34m)\u001b[0m\u001b[0;34m\u001b[0m\u001b[0m\n\u001b[0m\u001b[1;32m    915\u001b[0m \u001b[0;34m\u001b[0m\u001b[0m\n\u001b[1;32m    916\u001b[0m     \u001b[0;32mdef\u001b[0m \u001b[0m_execute_function\u001b[0m\u001b[0;34m(\u001b[0m\u001b[0mself\u001b[0m\u001b[0;34m,\u001b[0m \u001b[0mfunc\u001b[0m\u001b[0;34m,\u001b[0m \u001b[0mmultiparams\u001b[0m\u001b[0;34m,\u001b[0m \u001b[0mparams\u001b[0m\u001b[0;34m)\u001b[0m\u001b[0;34m:\u001b[0m\u001b[0;34m\u001b[0m\u001b[0m\n",
      "\u001b[0;32m/Users/SKalthur/anaconda/lib/python3.5/site-packages/sqlalchemy/sql/elements.py\u001b[0m in \u001b[0;36m_execute_on_connection\u001b[0;34m(self, connection, multiparams, params)\u001b[0m\n\u001b[1;32m    321\u001b[0m \u001b[0;34m\u001b[0m\u001b[0m\n\u001b[1;32m    322\u001b[0m     \u001b[0;32mdef\u001b[0m \u001b[0m_execute_on_connection\u001b[0m\u001b[0;34m(\u001b[0m\u001b[0mself\u001b[0m\u001b[0;34m,\u001b[0m \u001b[0mconnection\u001b[0m\u001b[0;34m,\u001b[0m \u001b[0mmultiparams\u001b[0m\u001b[0;34m,\u001b[0m \u001b[0mparams\u001b[0m\u001b[0;34m)\u001b[0m\u001b[0;34m:\u001b[0m\u001b[0;34m\u001b[0m\u001b[0m\n\u001b[0;32m--> 323\u001b[0;31m         \u001b[0;32mreturn\u001b[0m \u001b[0mconnection\u001b[0m\u001b[0;34m.\u001b[0m\u001b[0m_execute_clauseelement\u001b[0m\u001b[0;34m(\u001b[0m\u001b[0mself\u001b[0m\u001b[0;34m,\u001b[0m \u001b[0mmultiparams\u001b[0m\u001b[0;34m,\u001b[0m \u001b[0mparams\u001b[0m\u001b[0;34m)\u001b[0m\u001b[0;34m\u001b[0m\u001b[0m\n\u001b[0m\u001b[1;32m    324\u001b[0m \u001b[0;34m\u001b[0m\u001b[0m\n\u001b[1;32m    325\u001b[0m     \u001b[0;32mdef\u001b[0m \u001b[0munique_params\u001b[0m\u001b[0;34m(\u001b[0m\u001b[0mself\u001b[0m\u001b[0;34m,\u001b[0m \u001b[0;34m*\u001b[0m\u001b[0moptionaldict\u001b[0m\u001b[0;34m,\u001b[0m \u001b[0;34m**\u001b[0m\u001b[0mkwargs\u001b[0m\u001b[0;34m)\u001b[0m\u001b[0;34m:\u001b[0m\u001b[0;34m\u001b[0m\u001b[0m\n",
      "\u001b[0;32m/Users/SKalthur/anaconda/lib/python3.5/site-packages/sqlalchemy/engine/base.py\u001b[0m in \u001b[0;36m_execute_clauseelement\u001b[0;34m(self, elem, multiparams, params)\u001b[0m\n\u001b[1;32m   1008\u001b[0m             \u001b[0mcompiled_sql\u001b[0m\u001b[0;34m,\u001b[0m\u001b[0;34m\u001b[0m\u001b[0m\n\u001b[1;32m   1009\u001b[0m             \u001b[0mdistilled_params\u001b[0m\u001b[0;34m,\u001b[0m\u001b[0;34m\u001b[0m\u001b[0m\n\u001b[0;32m-> 1010\u001b[0;31m             \u001b[0mcompiled_sql\u001b[0m\u001b[0;34m,\u001b[0m \u001b[0mdistilled_params\u001b[0m\u001b[0;34m\u001b[0m\u001b[0m\n\u001b[0m\u001b[1;32m   1011\u001b[0m         )\n\u001b[1;32m   1012\u001b[0m         \u001b[0;32mif\u001b[0m \u001b[0mself\u001b[0m\u001b[0;34m.\u001b[0m\u001b[0m_has_events\u001b[0m \u001b[0;32mor\u001b[0m \u001b[0mself\u001b[0m\u001b[0;34m.\u001b[0m\u001b[0mengine\u001b[0m\u001b[0;34m.\u001b[0m\u001b[0m_has_events\u001b[0m\u001b[0;34m:\u001b[0m\u001b[0;34m\u001b[0m\u001b[0m\n",
      "\u001b[0;32m/Users/SKalthur/anaconda/lib/python3.5/site-packages/sqlalchemy/engine/base.py\u001b[0m in \u001b[0;36m_execute_context\u001b[0;34m(self, dialect, constructor, statement, parameters, *args)\u001b[0m\n\u001b[1;32m   1144\u001b[0m                 \u001b[0mparameters\u001b[0m\u001b[0;34m,\u001b[0m\u001b[0;34m\u001b[0m\u001b[0m\n\u001b[1;32m   1145\u001b[0m                 \u001b[0mcursor\u001b[0m\u001b[0;34m,\u001b[0m\u001b[0;34m\u001b[0m\u001b[0m\n\u001b[0;32m-> 1146\u001b[0;31m                 context)\n\u001b[0m\u001b[1;32m   1147\u001b[0m \u001b[0;34m\u001b[0m\u001b[0m\n\u001b[1;32m   1148\u001b[0m         \u001b[0;32mif\u001b[0m \u001b[0mself\u001b[0m\u001b[0;34m.\u001b[0m\u001b[0m_has_events\u001b[0m \u001b[0;32mor\u001b[0m \u001b[0mself\u001b[0m\u001b[0;34m.\u001b[0m\u001b[0mengine\u001b[0m\u001b[0;34m.\u001b[0m\u001b[0m_has_events\u001b[0m\u001b[0;34m:\u001b[0m\u001b[0;34m\u001b[0m\u001b[0m\n",
      "\u001b[0;32m/Users/SKalthur/anaconda/lib/python3.5/site-packages/sqlalchemy/engine/base.py\u001b[0m in \u001b[0;36m_handle_dbapi_exception\u001b[0;34m(self, e, statement, parameters, cursor, context)\u001b[0m\n\u001b[1;32m   1339\u001b[0m                 util.raise_from_cause(\n\u001b[1;32m   1340\u001b[0m                     \u001b[0msqlalchemy_exception\u001b[0m\u001b[0;34m,\u001b[0m\u001b[0;34m\u001b[0m\u001b[0m\n\u001b[0;32m-> 1341\u001b[0;31m                     \u001b[0mexc_info\u001b[0m\u001b[0;34m\u001b[0m\u001b[0m\n\u001b[0m\u001b[1;32m   1342\u001b[0m                 )\n\u001b[1;32m   1343\u001b[0m             \u001b[0;32melse\u001b[0m\u001b[0;34m:\u001b[0m\u001b[0;34m\u001b[0m\u001b[0m\n",
      "\u001b[0;32m/Users/SKalthur/anaconda/lib/python3.5/site-packages/sqlalchemy/util/compat.py\u001b[0m in \u001b[0;36mraise_from_cause\u001b[0;34m(exception, exc_info)\u001b[0m\n\u001b[1;32m    187\u001b[0m             \u001b[0mexc_info\u001b[0m \u001b[0;34m=\u001b[0m \u001b[0msys\u001b[0m\u001b[0;34m.\u001b[0m\u001b[0mexc_info\u001b[0m\u001b[0;34m(\u001b[0m\u001b[0;34m)\u001b[0m\u001b[0;34m\u001b[0m\u001b[0m\n\u001b[1;32m    188\u001b[0m         \u001b[0mexc_type\u001b[0m\u001b[0;34m,\u001b[0m \u001b[0mexc_value\u001b[0m\u001b[0;34m,\u001b[0m \u001b[0mexc_tb\u001b[0m \u001b[0;34m=\u001b[0m \u001b[0mexc_info\u001b[0m\u001b[0;34m\u001b[0m\u001b[0m\n\u001b[0;32m--> 189\u001b[0;31m         \u001b[0mreraise\u001b[0m\u001b[0;34m(\u001b[0m\u001b[0mtype\u001b[0m\u001b[0;34m(\u001b[0m\u001b[0mexception\u001b[0m\u001b[0;34m)\u001b[0m\u001b[0;34m,\u001b[0m \u001b[0mexception\u001b[0m\u001b[0;34m,\u001b[0m \u001b[0mtb\u001b[0m\u001b[0;34m=\u001b[0m\u001b[0mexc_tb\u001b[0m\u001b[0;34m,\u001b[0m \u001b[0mcause\u001b[0m\u001b[0;34m=\u001b[0m\u001b[0mexc_value\u001b[0m\u001b[0;34m)\u001b[0m\u001b[0;34m\u001b[0m\u001b[0m\n\u001b[0m\u001b[1;32m    190\u001b[0m \u001b[0;32melse\u001b[0m\u001b[0;34m:\u001b[0m\u001b[0;34m\u001b[0m\u001b[0m\n\u001b[1;32m    191\u001b[0m     exec(\"def reraise(tp, value, tb=None, cause=None):\\n\"\n",
      "\u001b[0;32m/Users/SKalthur/anaconda/lib/python3.5/site-packages/sqlalchemy/util/compat.py\u001b[0m in \u001b[0;36mreraise\u001b[0;34m(tp, value, tb, cause)\u001b[0m\n\u001b[1;32m    180\u001b[0m             \u001b[0mvalue\u001b[0m\u001b[0;34m.\u001b[0m\u001b[0m__cause__\u001b[0m \u001b[0;34m=\u001b[0m \u001b[0mcause\u001b[0m\u001b[0;34m\u001b[0m\u001b[0m\n\u001b[1;32m    181\u001b[0m         \u001b[0;32mif\u001b[0m \u001b[0mvalue\u001b[0m\u001b[0;34m.\u001b[0m\u001b[0m__traceback__\u001b[0m \u001b[0;32mis\u001b[0m \u001b[0;32mnot\u001b[0m \u001b[0mtb\u001b[0m\u001b[0;34m:\u001b[0m\u001b[0;34m\u001b[0m\u001b[0m\n\u001b[0;32m--> 182\u001b[0;31m             \u001b[0;32mraise\u001b[0m \u001b[0mvalue\u001b[0m\u001b[0;34m.\u001b[0m\u001b[0mwith_traceback\u001b[0m\u001b[0;34m(\u001b[0m\u001b[0mtb\u001b[0m\u001b[0;34m)\u001b[0m\u001b[0;34m\u001b[0m\u001b[0m\n\u001b[0m\u001b[1;32m    183\u001b[0m         \u001b[0;32mraise\u001b[0m \u001b[0mvalue\u001b[0m\u001b[0;34m\u001b[0m\u001b[0m\n\u001b[1;32m    184\u001b[0m \u001b[0;34m\u001b[0m\u001b[0m\n",
      "\u001b[0;32m/Users/SKalthur/anaconda/lib/python3.5/site-packages/sqlalchemy/engine/base.py\u001b[0m in \u001b[0;36m_execute_context\u001b[0;34m(self, dialect, constructor, statement, parameters, *args)\u001b[0m\n\u001b[1;32m   1114\u001b[0m                         \u001b[0mstatement\u001b[0m\u001b[0;34m,\u001b[0m\u001b[0;34m\u001b[0m\u001b[0m\n\u001b[1;32m   1115\u001b[0m                         \u001b[0mparameters\u001b[0m\u001b[0;34m,\u001b[0m\u001b[0;34m\u001b[0m\u001b[0m\n\u001b[0;32m-> 1116\u001b[0;31m                         context)\n\u001b[0m\u001b[1;32m   1117\u001b[0m             \u001b[0;32melif\u001b[0m \u001b[0;32mnot\u001b[0m \u001b[0mparameters\u001b[0m \u001b[0;32mand\u001b[0m \u001b[0mcontext\u001b[0m\u001b[0;34m.\u001b[0m\u001b[0mno_parameters\u001b[0m\u001b[0;34m:\u001b[0m\u001b[0;34m\u001b[0m\u001b[0m\n\u001b[1;32m   1118\u001b[0m                 \u001b[0;32mif\u001b[0m \u001b[0mself\u001b[0m\u001b[0;34m.\u001b[0m\u001b[0mdialect\u001b[0m\u001b[0;34m.\u001b[0m\u001b[0m_has_events\u001b[0m\u001b[0;34m:\u001b[0m\u001b[0;34m\u001b[0m\u001b[0m\n",
      "\u001b[0;32m/Users/SKalthur/anaconda/lib/python3.5/site-packages/sqlalchemy/engine/default.py\u001b[0m in \u001b[0;36mdo_executemany\u001b[0;34m(self, cursor, statement, parameters, context)\u001b[0m\n\u001b[1;32m    445\u001b[0m \u001b[0;34m\u001b[0m\u001b[0m\n\u001b[1;32m    446\u001b[0m     \u001b[0;32mdef\u001b[0m \u001b[0mdo_executemany\u001b[0m\u001b[0;34m(\u001b[0m\u001b[0mself\u001b[0m\u001b[0;34m,\u001b[0m \u001b[0mcursor\u001b[0m\u001b[0;34m,\u001b[0m \u001b[0mstatement\u001b[0m\u001b[0;34m,\u001b[0m \u001b[0mparameters\u001b[0m\u001b[0;34m,\u001b[0m \u001b[0mcontext\u001b[0m\u001b[0;34m=\u001b[0m\u001b[0;32mNone\u001b[0m\u001b[0;34m)\u001b[0m\u001b[0;34m:\u001b[0m\u001b[0;34m\u001b[0m\u001b[0m\n\u001b[0;32m--> 447\u001b[0;31m         \u001b[0mcursor\u001b[0m\u001b[0;34m.\u001b[0m\u001b[0mexecutemany\u001b[0m\u001b[0;34m(\u001b[0m\u001b[0mstatement\u001b[0m\u001b[0;34m,\u001b[0m \u001b[0mparameters\u001b[0m\u001b[0;34m)\u001b[0m\u001b[0;34m\u001b[0m\u001b[0m\n\u001b[0m\u001b[1;32m    448\u001b[0m \u001b[0;34m\u001b[0m\u001b[0m\n\u001b[1;32m    449\u001b[0m     \u001b[0;32mdef\u001b[0m \u001b[0mdo_execute\u001b[0m\u001b[0;34m(\u001b[0m\u001b[0mself\u001b[0m\u001b[0;34m,\u001b[0m \u001b[0mcursor\u001b[0m\u001b[0;34m,\u001b[0m \u001b[0mstatement\u001b[0m\u001b[0;34m,\u001b[0m \u001b[0mparameters\u001b[0m\u001b[0;34m,\u001b[0m \u001b[0mcontext\u001b[0m\u001b[0;34m=\u001b[0m\u001b[0;32mNone\u001b[0m\u001b[0;34m)\u001b[0m\u001b[0;34m:\u001b[0m\u001b[0;34m\u001b[0m\u001b[0m\n",
      "\u001b[0;31mIntegrityError\u001b[0m: (psycopg2.IntegrityError) duplicate key value violates unique constraint \"psg_data_pkey\"\nDETAIL:  Key (\"Participant\")=(FL102 ) already exists.\n [SQL: 'INSERT INTO psg_data (index, \"No.\", \"Participant Record ID\", \"Participant\", \"PSG File_Name\", \"DOB\", \"Study Date\", \"Study Start_Time\", \"Study End_Time\", \"Time in_Bed_min\", \"Sleep Latency_min\", \"REM Latency_min\", \"Sleep Efficiency_Percent\", \"Total Time_Awake_During_Sleep_Period_min\", \"Total Sleep_Time_min\", \"NREM min\", \"NREM Percent\", \"REM min\", \"REM Percent\", \"Stage 1_min\", \"Stage 1_Percent\", \"Stage 2_min\", \"Stage 2_Percent\", \"Stage 3_min\", \"Stage 3_Percent\", \"Stage 4_min\", \"Stage 4_Percent\") VALUES (%(index)s, %(No.)s, %(Participant Record ID)s, %(Participant)s, %(PSG File_Name)s, %(DOB)s, %(Study Date)s, %(Study Start_Time)s, %(Study End_Time)s, %(Time in_Bed_min)s, %(Sleep Latency_min)s, %(REM Latency_min)s, %(Sleep Efficiency_Percent)s, %(Total Time_Awake_During_Sleep_Period_min)s, %(Total Sleep_Time_min)s, %(NREM min)s, %(NREM Percent)s, %(REM min)s, %(REM Percent)s, %(Stage 1_min)s, %(Stage 1_Percent)s, %(Stage 2_min)s, %(Stage 2_Percent)s, %(Stage 3_min)s, %(Stage 3_Percent)s, %(Stage 4_min)s, %(Stage 4_Percent)s)'] [parameters: ({'REM min': 44.5, 'Stage 3_min': 29.0, 'Time in_Bed_min': 416.5, 'Stage 3_Percent': '10.3', 'REM Percent': '15.8', 'NREM min': 238.0, 'Stage 1_min': 59.0, 'REM Latency_min': 109.5, 'Stage 2_Percent': '53.1', 'index': 0, 'PSG File_Name': None, 'Total Time_Awake_During_Sleep_Period_min': 83.5, 'Total Sleep_Time_min': 282.5, 'Stage 2_min': 150.0, 'Study Start_Time': '20:43:24', 'Participant Record ID': 147, 'Stage 1_Percent': '20.9', 'Sleep Efficiency_Percent': '67.8', 'Sleep Latency_min': 1.5, 'Stage 4_Percent': '0', 'Study End_Time': '7:00:53', 'NREM Percent': '84.2', 'Study Date': '31/07/2016', 'Stage 4_min': 0, 'Participant': 'FL102 ', 'No.': 1, 'DOB': '7/06/1948'}, {'REM min': 79.5, 'Stage 3_min': 94.5, 'Time in_Bed_min': 414.0, 'Stage 3_Percent': '26', 'REM Percent': '21.9', 'NREM min': 284.0, 'Stage 1_min': 28.5, 'REM Latency_min': 80.0, 'Stage 2_Percent': '44.3', 'index': 1, 'PSG File_Name': None, 'Total Time_Awake_During_Sleep_Period_min': 15.0, 'Total Sleep_Time_min': 363.5, 'Stage 2_min': 161.0, 'Study Start_Time': '22:07:26', 'Participant Record ID': 145, 'Stage 1_Percent': '7.8', 'Sleep Efficiency_Percent': '87.8', 'Sleep Latency_min': 34.0, 'Stage 4_Percent': '0', 'Study End_Time': '7:17:55', 'NREM Percent': '78.1', 'Study Date': '24/07/2016', 'Stage 4_min': 0, 'Participant': 'FL101 ', 'No.': 2, 'DOB': '20/08/1997'}, {'REM min': 18.0, 'Stage 3_min': 29.5, 'Time in_Bed_min': 359.0, 'Stage 3_Percent': '18.9', 'REM Percent': '11.5', 'NREM min': 138.0, 'Stage 1_min': 20.5, 'REM Latency_min': 209.5, 'Stage 2_Percent': '56.4', 'index': 2, 'PSG File_Name': None, 'Total Time_Awake_During_Sleep_Period_min': 156.5, 'Total Sleep_Time_min': 156.0, 'Stage 2_min': 88.0, 'Study Start_Time': '23:52:27', 'Participant Record ID': 146, 'Stage 1_Percent': '13.1', 'Sleep Efficiency_Percent': '43.5', 'Sleep Latency_min': 30.5, 'Stage 4_Percent': '0', 'Study End_Time': '6:07:26', 'NREM Percent': '88.5', 'Study Date': '24/07/2016', 'Stage 4_min': 0, 'Participant': 'FL107 ', 'No.': 3, 'DOB': '18/08/1958'}, {'REM min': 58.5, 'Stage 3_min': 29.0, 'Time in_Bed_min': 407.5, 'Stage 3_Percent': '10.7', 'REM Percent': '21.5', 'NREM min': 213.0, 'Stage 1_min': 43.0, 'REM Latency_min': 130.0, 'Stage 2_Percent': '51.9', 'index': 3, 'PSG File_Name': None, 'Total Time_Awake_During_Sleep_Period_min': 105.0, 'Total Sleep_Time_min': 271.5, 'Stage 2_min': 141.0, 'Study Start_Time': '23:24:05', 'Participant Record ID': 134, 'Stage 1_Percent': '15.8', 'Sleep Efficiency_Percent': '66.6', 'Sleep Latency_min': 20.0, 'Stage 4_Percent': '0', 'Study End_Time': '7:13:04', 'NREM Percent': '78.5', 'Study Date': '26/06/2016', 'Stage 4_min': 0, 'Participant': 'FL100 ', 'No.': 4, 'DOB': '13/07/1975'}, {'REM min': 89.0, 'Stage 3_min': 30.0, 'Time in_Bed_min': 480.5, 'Stage 3_Percent': '6.8', 'REM Percent': '20.3', 'NREM min': 349.5, 'Stage 1_min': 37.5, 'REM Latency_min': 78.0, 'Stage 2_Percent': '64.3', 'index': 4, 'PSG File_Name': None, 'Total Time_Awake_During_Sleep_Period_min': 25.0, 'Total Sleep_Time_min': 438.5, 'Stage 2_min': 282.0, 'Study Start_Time': '21:43:15', 'Participant Record ID': 133, 'Stage 1_Percent': '8.6', 'Sleep Efficiency_Percent': '91.3', 'Sleep Latency_min': 16.5, 'Stage 4_Percent': '0', 'Study End_Time': '7:19:14', 'NREM Percent': '79.7', 'Study Date': '12/06/2016', 'Stage 4_min': 0, 'Participant': 'FL098 ', 'No.': 5, 'DOB': '15/08/1972'}, {'REM min': 59.5, 'Stage 3_min': 5.0, 'Time in_Bed_min': 407.0, 'Stage 3_Percent': '1.4', 'REM Percent': '16.1', 'NREM min': 309.0, 'Stage 1_min': 28.5, 'REM Latency_min': 123.5, 'Stage 2_Percent': '74.8', 'index': 5, 'PSG File_Name': None, 'Total Time_Awake_During_Sleep_Period_min': 15.0, 'Total Sleep_Time_min': 368.5, 'Stage 2_min': 275.5, 'Study Start_Time': '22:58:26', 'Participant Record ID': 129, 'Stage 1_Percent': '7.7', 'Sleep Efficiency_Percent': '90.5', 'Sleep Latency_min': 23.5, 'Stage 4_Percent': '0', 'Study End_Time': '6:51:55', 'NREM Percent': '83.9', 'Study Date': '5/06/2016', 'Stage 4_min': 0, 'Participant': 'FL085 ', 'No.': 6, 'DOB': '16/04/1960'}, {'REM min': 42.5, 'Stage 3_min': 56.5, 'Time in_Bed_min': 452.5, 'Stage 3_Percent': '18.6', 'REM Percent': '14', 'NREM min': 261.5, 'Stage 1_min': 24.5, 'REM Latency_min': 79.5, 'Stage 2_Percent': '59.4', 'index': 6, 'PSG File_Name': None, 'Total Time_Awake_During_Sleep_Period_min': 75.5, 'Total Sleep_Time_min': 304.0, 'Stage 2_min': 180.5, 'Study Start_Time': '23:39:38', 'Participant Record ID': 128, 'Stage 1_Percent': '8.1', 'Sleep Efficiency_Percent': '67.2', 'Sleep Latency_min': 17.5, 'Stage 4_Percent': '0', 'Study End_Time': '7:12:07', 'NREM Percent': '86', 'Study Date': '1/06/2016', 'Stage 4_min': 0, 'Participant': 'FL088 ', 'No.': 7, 'DOB': '17/12/1946'}, {'REM min': 69.0, 'Stage 3_min': 95.5, 'Time in_Bed_min': 479.5, 'Stage 3_Percent': '29.3', 'REM Percent': '21.2', 'NREM min': 257.0, 'Stage 1_min': 22.5, 'REM Latency_min': 111.0, 'Stage 2_Percent': '42.6', 'index': 7, 'PSG File_Name': None, 'Total Time_Awake_During_Sleep_Period_min': 57.5, 'Total Sleep_Time_min': 326.0, 'Stage 2_min': 139.0, 'Study Start_Time': '22:56:59', 'Participant Record ID': 126, 'Stage 1_Percent': '6.9', 'Sleep Efficiency_Percent': '68', 'Sleep Latency_min': 6.5, 'Stage 4_Percent': '0', 'Study End_Time': '6:56:28', 'NREM Percent': '78.8', 'Study Date': '1/06/2016', 'Stage 4_min': 0, 'Participant': 'FL091 ', 'No.': 8, 'DOB': '27/03/1963'}  ... displaying 10 of 97 total bound parameter sets ...  {'REM min': 83.8, 'Stage 3_min': None, 'Time in_Bed_min': 345.3, 'Stage 3_Percent': '28.70', 'REM Percent': '25.80', 'NREM min': 241.5, 'Stage 1_min': 7.5, 'REM Latency_min': 53.0, 'Stage 2_Percent': '43.20', 'index': 95, 'PSG File_Name': None, 'Total Time_Awake_During_Sleep_Period_min': 20.0, 'Total Sleep_Time_min': 325.3, 'Stage 2_min': 140.5, 'Study Start_Time': ' 1:40', 'Participant Record ID': 150, 'Stage 1_Percent': '2.30', 'Sleep Efficiency_Percent': '92.90', 'Sleep Latency_min': 5.0, 'Stage 4_Percent': '0.00', 'Study End_Time': ' 7:30', 'NREM Percent': '74.20', 'Study Date': ' 14/07/2016', 'Stage 4_min': 0, 'Participant': 'INS_WI_051 ', 'No.': 96, 'DOB': None}, {'REM min': 3.0, 'Stage 3_min': None, 'Time in_Bed_min': 383.7, 'Stage 3_Percent': '36.80', 'REM Percent': '0.90', 'NREM min': 314.0, 'Stage 1_min': 7.0, 'REM Latency_min': 407.3, 'Stage 2_Percent': '60.10', 'index': 96, 'PSG File_Name': None, 'Total Time_Awake_During_Sleep_Period_min': 66.7, 'Total Sleep_Time_min': 317.0, 'Stage 2_min': 190.5, 'Study Start_Time': ' 23:19', 'Participant Record ID': 161, 'Stage 1_Percent': '2.20', 'Sleep Efficiency_Percent': '74.30', 'Sleep Latency_min': 13.8, 'Stage 4_Percent': '0.00', 'Study End_Time': ' 6:25', 'NREM Percent': '99.10', 'Study Date': ' 10/08/2016', 'Stage 4_min': 0, 'Participant': 'INS_WI_089 ', 'No.': 97, 'DOB': None})]"
     ]
    }
   ],
   "source": [
    "## Inserting the psg data to PostgresSQL database\n",
    "import sqlalchemy\n",
    "from sqlalchemy import create_engine \n",
    "engine = create_engine('postgresql://localhost:5432/SKalthur')\n",
    "#engine.execute(\"SET DateStyle ='mdy'\")\n",
    "psg_df_select.to_sql('psg_data', engine, if_exists = 'append')"
   ]
  },
  {
   "cell_type": "markdown",
   "metadata": {},
   "source": [
    "# Subjective_Data"
   ]
  },
  {
   "cell_type": "markdown",
   "metadata": {},
   "source": [
    "### Reading the subjective data from folder"
   ]
  },
  {
   "cell_type": "code",
   "execution_count": 26,
   "metadata": {
    "collapsed": false
   },
   "outputs": [
    {
     "name": "stdout",
     "output_type": "stream",
     "text": [
      "           no_id  participant_record_id  participant  pre_post  week  \\\n",
      "record_id                                                              \n",
      "0              1                     14  INS_WI_006        NaN   NaN   \n",
      "1              2                     24  INS_WI_014        NaN   NaN   \n",
      "2              3                     29  INS_WI_012        NaN   NaN   \n",
      "3              4                     18  INS_WI_011        NaN   NaN   \n",
      "4              5                     23  INS_WI_013        NaN   NaN   \n",
      "5              6                     28  INS_WI_015        NaN   NaN   \n",
      "6              7                     37  INS_WI_019        NaN   NaN   \n",
      "7              8                    159  INS_WI_092        NaN   NaN   \n",
      "8              9                    148  INS_WI_091        NaN   NaN   \n",
      "9             10                    161  INS_WI_089        NaN   NaN   \n",
      "10            11                    153  INS_WI_086        NaN   NaN   \n",
      "11            12                    122  INS_WI_085        NaN   NaN   \n",
      "12            13                    116  INS_WI_083        NaN   NaN   \n",
      "13            14                    143  INS_WI_082        NaN   NaN   \n",
      "14            15                    138  INS_WI_080        NaN   NaN   \n",
      "15            16                    144  INS_WI_079        NaN   NaN   \n",
      "16            17                    140  INS_WI_078        NaN   NaN   \n",
      "17            18                    131  INS_WI_077        NaN   NaN   \n",
      "18            19                    130  INS_WI_074        NaN   NaN   \n",
      "19            20                    132  INS_WI_073        NaN   NaN   \n",
      "20            21                    123  INS_WI_072        NaN   NaN   \n",
      "21            22                    124  INS_WI_071        NaN   NaN   \n",
      "22            23                    121  INS_WI_070        NaN   NaN   \n",
      "23            24                    115  INS_WI_069        NaN   NaN   \n",
      "24            25                    119  INS_WI_068        NaN   NaN   \n",
      "25            26                    149  INS_WI_066        NaN   NaN   \n",
      "26            27                    157  INS_WI_065        NaN   NaN   \n",
      "27            28                    113  INS_WI_064        NaN   NaN   \n",
      "28            29                    114  INS_WI_063        NaN   NaN   \n",
      "29            30                    117  INS_WI_059        NaN   NaN   \n",
      "...          ...                    ...          ...       ...   ...   \n",
      "43            44                     81  INS_WI_042        NaN   NaN   \n",
      "44            45                     87  INS_WI_041        NaN   NaN   \n",
      "45            46                     91  INS_WI_040        NaN   NaN   \n",
      "46            47                     83  INS_WI_039        NaN   NaN   \n",
      "47            48                     84  INS_WI_038        NaN   NaN   \n",
      "48            49                     89  INS_WI_037        NaN   NaN   \n",
      "49            50                     73  INS_WI_035        NaN   NaN   \n",
      "50            51                    125  INS_WI_033        NaN   NaN   \n",
      "51            52                     72  INS_WI_034        NaN   NaN   \n",
      "52            53                     70  INS_WI_032        NaN   NaN   \n",
      "53            54                     75  INS_WI_031        NaN   NaN   \n",
      "54            55                     65  INS_WI_030        NaN   NaN   \n",
      "55            56                     71  INS_WI_028        NaN   NaN   \n",
      "56            57                     59  INS_WI_026        NaN   NaN   \n",
      "57            58                     60  INS_WI_025        NaN   NaN   \n",
      "58            59                     58  INS_WI_024        NaN   NaN   \n",
      "59            60                     64  INS_WI_023        NaN   NaN   \n",
      "60            61                     46  INS_WI_021        NaN   NaN   \n",
      "61            62                     50  INS_WI_022        NaN   NaN   \n",
      "62            63                     43  INS_WI_020        NaN   NaN   \n",
      "63            64                     39  INS_WI_018        NaN   NaN   \n",
      "64            65                     38  INS_WI_017        NaN   NaN   \n",
      "65            66                     21  INS_WI_009        NaN   NaN   \n",
      "66            67                     16  INS_WI_008        NaN   NaN   \n",
      "67            68                     44  INS_WI_007        NaN   NaN   \n",
      "68            69                      9  INS_WI_005        NaN   NaN   \n",
      "69            70                      8  INS_WI_004        NaN   NaN   \n",
      "70            71                     15  INS_WI_003        NaN   NaN   \n",
      "71            72                     13  INS_WI_002        NaN   NaN   \n",
      "72            73                      6  INS_WI_001        NaN   NaN   \n",
      "\n",
      "           day_number  morning_1  morning_2  in_lab s1_todays_date  \\\n",
      "record_id                                                            \n",
      "0                 NaN        NaN        NaN     NaN     2015-09-18   \n",
      "1                 NaN        NaN        NaN     NaN     2015-10-30   \n",
      "2                 NaN        NaN        NaN     NaN     2015-10-30   \n",
      "3                 NaN        NaN        NaN     NaN     2015-01-10   \n",
      "4                 NaN        NaN        NaN     NaN     2015-05-11   \n",
      "5                 NaN        NaN        NaN     NaN     2015-05-11   \n",
      "6                 NaN        NaN        NaN     NaN     2015-03-12   \n",
      "7                 NaN        NaN        NaN     NaN     2016-04-08   \n",
      "8                 NaN        NaN        NaN     NaN     2016-07-07   \n",
      "9                 NaN        NaN        NaN     NaN     2016-11-08   \n",
      "10                NaN        NaN        NaN     NaN     2016-03-08   \n",
      "11                NaN        NaN        NaN     NaN     2016-02-06   \n",
      "12                NaN        NaN        NaN     NaN     2016-12-05   \n",
      "13                NaN        NaN        NaN     NaN            NaT   \n",
      "14                NaN        NaN        NaN     NaN     2016-06-23   \n",
      "15                NaN        NaN        NaN     NaN     2016-07-07   \n",
      "16                NaN        NaN        NaN     NaN     2016-01-07   \n",
      "17                NaN        NaN        NaN     NaN     2016-06-16   \n",
      "18                NaN        NaN        NaN     NaN     2016-06-16   \n",
      "19                NaN        NaN        NaN     NaN     2016-06-16   \n",
      "20                NaN        NaN        NaN     NaN     2016-09-06   \n",
      "21                NaN        NaN        NaN     NaN     2016-09-06   \n",
      "22                NaN        NaN        NaN     NaN     2016-02-06   \n",
      "23                NaN        NaN        NaN     NaN     2016-05-19   \n",
      "24                NaN        NaN        NaN     NaN            NaT   \n",
      "25                NaN        NaN        NaN     NaN            NaT   \n",
      "26                NaN        NaN        NaN     NaN     2016-07-21   \n",
      "27                NaN        NaN        NaN     NaN     2016-05-19   \n",
      "28                NaN        NaN        NaN     NaN     2016-05-19   \n",
      "29                NaN        NaN        NaN     NaN     2016-05-26   \n",
      "...               ...        ...        ...     ...            ...   \n",
      "43                NaN        NaN        NaN     NaN     2016-03-17   \n",
      "44                NaN        NaN        NaN     NaN     2016-03-24   \n",
      "45                NaN        NaN        NaN     NaN     2016-03-24   \n",
      "46                NaN        NaN        NaN     NaN     2016-06-04   \n",
      "47                NaN        NaN        NaN     NaN     2016-08-03   \n",
      "48                NaN        NaN        NaN     NaN     2016-01-04   \n",
      "49                NaN        NaN        NaN     NaN     2016-10-03   \n",
      "50                NaN        NaN        NaN     NaN     2016-09-06   \n",
      "51                NaN        NaN        NaN     NaN     2016-03-03   \n",
      "52                NaN        NaN        NaN     NaN     2016-02-19   \n",
      "53                NaN        NaN        NaN     NaN     2016-04-14   \n",
      "54                NaN        NaN        NaN     NaN     2016-10-02   \n",
      "55                NaN        NaN        NaN     NaN     2016-03-03   \n",
      "56                NaN        NaN        NaN     NaN     2016-04-02   \n",
      "57                NaN        NaN        NaN     NaN     2016-04-02   \n",
      "58                NaN        NaN        NaN     NaN     2016-07-04   \n",
      "59                NaN        NaN        NaN     NaN     2016-04-14   \n",
      "60                NaN        NaN        NaN     NaN     2015-01-21   \n",
      "61                NaN        NaN        NaN     NaN     2016-01-14   \n",
      "62                NaN        NaN        NaN     NaN     2015-10-12   \n",
      "63                NaN        NaN        NaN     NaN            NaT   \n",
      "64                NaN        NaN        NaN     NaN     2015-12-17   \n",
      "65                NaN        NaN        NaN     NaN     2015-09-10   \n",
      "66                NaN        NaN        NaN     NaN     2015-09-24   \n",
      "67                NaN        NaN        NaN     NaN     2016-02-19   \n",
      "68                NaN        NaN        NaN     NaN     2015-10-09   \n",
      "69                NaN        NaN        NaN     NaN     2015-10-09   \n",
      "70                NaN        NaN        NaN     NaN     2015-09-24   \n",
      "71                NaN        NaN        NaN     NaN     2015-09-18   \n",
      "72                NaN        NaN        NaN     NaN     2015-03-09   \n",
      "\n",
      "                       ...              s_15_how_strenuous  \\\n",
      "record_id              ...                                   \n",
      "0                      ...                             NaN   \n",
      "1                      ...                             NaN   \n",
      "2                      ...                             NaN   \n",
      "3                      ...                             NaN   \n",
      "4                      ...                             NaN   \n",
      "5                      ...                             NaN   \n",
      "6                      ...                             NaN   \n",
      "7                      ...                             NaN   \n",
      "8                      ...                             NaN   \n",
      "9                      ...                             NaN   \n",
      "10                     ...                             NaN   \n",
      "11                     ...                             NaN   \n",
      "12                     ...                             NaN   \n",
      "13                     ...                             NaN   \n",
      "14                     ...                             NaN   \n",
      "15                     ...                             NaN   \n",
      "16                     ...                             NaN   \n",
      "17                     ...                             NaN   \n",
      "18                     ...                             NaN   \n",
      "19                     ...                             NaN   \n",
      "20                     ...                             NaN   \n",
      "21                     ...                             NaN   \n",
      "22                     ...                             NaN   \n",
      "23                     ...                             NaN   \n",
      "24                     ...                             NaN   \n",
      "25                     ...                             NaN   \n",
      "26                     ...                             NaN   \n",
      "27                     ...                             NaN   \n",
      "28                     ...                             NaN   \n",
      "29                     ...                             NaN   \n",
      "...                    ...                             ...   \n",
      "43                     ...                             NaN   \n",
      "44                     ...                             NaN   \n",
      "45                     ...                             NaN   \n",
      "46                     ...                             NaN   \n",
      "47                     ...                             NaN   \n",
      "48                     ...                             NaN   \n",
      "49                     ...                             NaN   \n",
      "50                     ...                             NaN   \n",
      "51                     ...                             NaN   \n",
      "52                     ...                             NaN   \n",
      "53                     ...                             NaN   \n",
      "54                     ...                             NaN   \n",
      "55                     ...                             NaN   \n",
      "56                     ...                             NaN   \n",
      "57                     ...                             NaN   \n",
      "58                     ...                             NaN   \n",
      "59                     ...                             NaN   \n",
      "60                     ...                             NaN   \n",
      "61                     ...                             NaN   \n",
      "62                     ...                             NaN   \n",
      "63                     ...                             NaN   \n",
      "64                     ...                             NaN   \n",
      "65                     ...                             NaN   \n",
      "66                     ...                             NaN   \n",
      "67                     ...                             NaN   \n",
      "68                     ...                             NaN   \n",
      "69                     ...                             NaN   \n",
      "70                     ...                             NaN   \n",
      "71                     ...                             NaN   \n",
      "72                     ...                             NaN   \n",
      "\n",
      "          s_16_did_you_nap_yesterday s_16_nap_how_many_times s_16_nap_start  \\\n",
      "record_id                                                                     \n",
      "0                                NaN                     NaN            NaN   \n",
      "1                                NaN                     NaN            NaN   \n",
      "2                                NaN                     NaN            NaN   \n",
      "3                                NaN                     NaN            NaN   \n",
      "4                                NaN                     NaN            NaN   \n",
      "5                                NaN                     NaN            NaN   \n",
      "6                                NaN                     NaN            NaN   \n",
      "7                                NaN                     NaN            NaN   \n",
      "8                                NaN                     NaN            NaN   \n",
      "9                                NaN                     NaN            NaN   \n",
      "10                               NaN                     NaN            NaN   \n",
      "11                               NaN                     NaN            NaN   \n",
      "12                               NaN                     NaN            NaN   \n",
      "13                               NaN                     NaN            NaN   \n",
      "14                               NaN                     NaN            NaN   \n",
      "15                               NaN                     NaN            NaN   \n",
      "16                               NaN                     NaN            NaN   \n",
      "17                               NaN                     NaN            NaN   \n",
      "18                               NaN                     NaN            NaN   \n",
      "19                               NaN                     NaN            NaN   \n",
      "20                               NaN                     NaN            NaN   \n",
      "21                               NaN                     NaN            NaN   \n",
      "22                               NaN                     NaN            NaN   \n",
      "23                               NaN                     NaN            NaN   \n",
      "24                               NaN                     NaN            NaN   \n",
      "25                               NaN                     NaN            NaN   \n",
      "26                               NaN                     NaN            NaN   \n",
      "27                               NaN                     NaN            NaN   \n",
      "28                               NaN                     NaN            NaN   \n",
      "29                               NaN                     NaN            NaN   \n",
      "...                              ...                     ...            ...   \n",
      "43                               NaN                     NaN            NaN   \n",
      "44                               NaN                     NaN            NaN   \n",
      "45                               NaN                     NaN            NaN   \n",
      "46                               NaN                     NaN            NaN   \n",
      "47                               NaN                     NaN            NaN   \n",
      "48                               NaN                     NaN            NaN   \n",
      "49                               NaN                     NaN            NaN   \n",
      "50                               NaN                     NaN            NaN   \n",
      "51                               NaN                     NaN            NaN   \n",
      "52                               NaN                     NaN            NaN   \n",
      "53                               NaN                     NaN            NaN   \n",
      "54                               NaN                     NaN            NaN   \n",
      "55                               NaN                     NaN            NaN   \n",
      "56                               NaN                     NaN            NaN   \n",
      "57                               NaN                     NaN            NaN   \n",
      "58                               NaN                     NaN            NaN   \n",
      "59                               NaN                     NaN            NaN   \n",
      "60                               NaN                     NaN            NaN   \n",
      "61                               NaN                     NaN            NaN   \n",
      "62                               NaN                     NaN            NaN   \n",
      "63                               NaN                     NaN            NaN   \n",
      "64                               NaN                     NaN            NaN   \n",
      "65                               NaN                     NaN            NaN   \n",
      "66                               NaN                     NaN            NaN   \n",
      "67                               NaN                     NaN            NaN   \n",
      "68                               NaN                     NaN            NaN   \n",
      "69                               NaN                     NaN            NaN   \n",
      "70                               NaN                     NaN            NaN   \n",
      "71                               NaN                     NaN            NaN   \n",
      "72                               NaN                     NaN            NaN   \n",
      "\n",
      "          s_16_nap_end s_17_did_you_take_sleep_pills s_17_type_of_medication  \\\n",
      "record_id                                                                      \n",
      "0                  NaN                           NaN                     NaN   \n",
      "1                  NaN                           NaN                     NaN   \n",
      "2                  NaN                           NaN                     NaN   \n",
      "3                  NaN                           NaN                     NaN   \n",
      "4                  NaN                           NaN                     NaN   \n",
      "5                  NaN                           NaN                     NaN   \n",
      "6                  NaN                           NaN                     NaN   \n",
      "7                  NaN                           NaN                     NaN   \n",
      "8                  NaN                           NaN                     NaN   \n",
      "9                  NaN                           NaN                     NaN   \n",
      "10                 NaN                           NaN                     NaN   \n",
      "11                 NaN                           NaN                     NaN   \n",
      "12                 NaN                           NaN                     NaN   \n",
      "13                 NaN                           NaN                     NaN   \n",
      "14                 NaN                           NaN                     NaN   \n",
      "15                 NaN                           NaN                     NaN   \n",
      "16                 NaN                           NaN                     NaN   \n",
      "17                 NaN                           NaN                     NaN   \n",
      "18                 NaN                           NaN                     NaN   \n",
      "19                 NaN                           NaN                     NaN   \n",
      "20                 NaN                           NaN                     NaN   \n",
      "21                 NaN                           NaN                     NaN   \n",
      "22                 NaN                           NaN                     NaN   \n",
      "23                 NaN                           NaN                     NaN   \n",
      "24                 NaN                           NaN                     NaN   \n",
      "25                 NaN                           NaN                     NaN   \n",
      "26                 NaN                           NaN                     NaN   \n",
      "27                 NaN                           NaN                     NaN   \n",
      "28                 NaN                           NaN                     NaN   \n",
      "29                 NaN                           NaN                     NaN   \n",
      "...                ...                           ...                     ...   \n",
      "43                 NaN                           NaN                     NaN   \n",
      "44                 NaN                           NaN                     NaN   \n",
      "45                 NaN                           NaN                     NaN   \n",
      "46                 NaN                           NaN                     NaN   \n",
      "47                 NaN                           NaN                     NaN   \n",
      "48                 NaN                           NaN                     NaN   \n",
      "49                 NaN                           NaN                     NaN   \n",
      "50                 NaN                           NaN                     NaN   \n",
      "51                 NaN                           NaN                     NaN   \n",
      "52                 NaN                           NaN                     NaN   \n",
      "53                 NaN                           NaN                     NaN   \n",
      "54                 NaN                           NaN                     NaN   \n",
      "55                 NaN                           NaN                     NaN   \n",
      "56                 NaN                           NaN                     NaN   \n",
      "57                 NaN                           NaN                     NaN   \n",
      "58                 NaN                           NaN                     NaN   \n",
      "59                 NaN                           NaN                     NaN   \n",
      "60                 NaN                           NaN                     NaN   \n",
      "61                 NaN                           NaN                     NaN   \n",
      "62                 NaN                           NaN                     NaN   \n",
      "63                 NaN                           NaN                     NaN   \n",
      "64                 NaN                           NaN                     NaN   \n",
      "65                 NaN                           NaN                     NaN   \n",
      "66                 NaN                           NaN                     NaN   \n",
      "67                 NaN                           NaN                     NaN   \n",
      "68                 NaN                           NaN                     NaN   \n",
      "69                 NaN                           NaN                     NaN   \n",
      "70                 NaN                           NaN                     NaN   \n",
      "71                 NaN                           NaN                     NaN   \n",
      "72                 NaN                           NaN                     NaN   \n",
      "\n",
      "          s_18_how_many_times_removed_actiwatch  s_18_actiwatch_removed_at  \\\n",
      "record_id                                                                    \n",
      "0                                           NaN                        NaN   \n",
      "1                                           NaN                        NaN   \n",
      "2                                           NaN                        NaN   \n",
      "3                                           NaN                        NaN   \n",
      "4                                           NaN                        NaN   \n",
      "5                                           NaN                        NaN   \n",
      "6                                           NaN                        NaN   \n",
      "7                                           NaN                        NaN   \n",
      "8                                           NaN                        NaN   \n",
      "9                                           NaN                        NaN   \n",
      "10                                          NaN                        NaN   \n",
      "11                                          NaN                        NaN   \n",
      "12                                          NaN                        NaN   \n",
      "13                                          NaN                        NaN   \n",
      "14                                          NaN                        NaN   \n",
      "15                                          NaN                        NaN   \n",
      "16                                          NaN                        NaN   \n",
      "17                                          NaN                        NaN   \n",
      "18                                          NaN                        NaN   \n",
      "19                                          NaN                        NaN   \n",
      "20                                          NaN                        NaN   \n",
      "21                                          NaN                        NaN   \n",
      "22                                          NaN                        NaN   \n",
      "23                                          NaN                        NaN   \n",
      "24                                          NaN                        NaN   \n",
      "25                                          NaN                        NaN   \n",
      "26                                          NaN                        NaN   \n",
      "27                                          NaN                        NaN   \n",
      "28                                          NaN                        NaN   \n",
      "29                                          NaN                        NaN   \n",
      "...                                         ...                        ...   \n",
      "43                                          NaN                        NaN   \n",
      "44                                          NaN                        NaN   \n",
      "45                                          NaN                        NaN   \n",
      "46                                          NaN                        NaN   \n",
      "47                                          NaN                        NaN   \n",
      "48                                          NaN                        NaN   \n",
      "49                                          NaN                        NaN   \n",
      "50                                          NaN                        NaN   \n",
      "51                                          NaN                        NaN   \n",
      "52                                          NaN                        NaN   \n",
      "53                                          NaN                        NaN   \n",
      "54                                          NaN                        NaN   \n",
      "55                                          NaN                        NaN   \n",
      "56                                          NaN                        NaN   \n",
      "57                                          NaN                        NaN   \n",
      "58                                          NaN                        NaN   \n",
      "59                                          NaN                        NaN   \n",
      "60                                          NaN                        NaN   \n",
      "61                                          NaN                        NaN   \n",
      "62                                          NaN                        NaN   \n",
      "63                                          NaN                        NaN   \n",
      "64                                          NaN                        NaN   \n",
      "65                                          NaN                        NaN   \n",
      "66                                          NaN                        NaN   \n",
      "67                                          NaN                        NaN   \n",
      "68                                          NaN                        NaN   \n",
      "69                                          NaN                        NaN   \n",
      "70                                          NaN                        NaN   \n",
      "71                                          NaN                        NaN   \n",
      "72                                          NaN                        NaN   \n",
      "\n",
      "          s_18_actiwatch_put_back_on_at  \n",
      "record_id                                \n",
      "0                                   NaN  \n",
      "1                                   NaN  \n",
      "2                                   NaN  \n",
      "3                                   NaN  \n",
      "4                                   NaN  \n",
      "5                                   NaN  \n",
      "6                                   NaN  \n",
      "7                                   NaN  \n",
      "8                                   NaN  \n",
      "9                                   NaN  \n",
      "10                                  NaN  \n",
      "11                                  NaN  \n",
      "12                                  NaN  \n",
      "13                                  NaN  \n",
      "14                                  NaN  \n",
      "15                                  NaN  \n",
      "16                                  NaN  \n",
      "17                                  NaN  \n",
      "18                                  NaN  \n",
      "19                                  NaN  \n",
      "20                                  NaN  \n",
      "21                                  NaN  \n",
      "22                                  NaN  \n",
      "23                                  NaN  \n",
      "24                                  NaN  \n",
      "25                                  NaN  \n",
      "26                                  NaN  \n",
      "27                                  NaN  \n",
      "28                                  NaN  \n",
      "29                                  NaN  \n",
      "...                                 ...  \n",
      "43                                  NaN  \n",
      "44                                  NaN  \n",
      "45                                  NaN  \n",
      "46                                  NaN  \n",
      "47                                  NaN  \n",
      "48                                  NaN  \n",
      "49                                  NaN  \n",
      "50                                  NaN  \n",
      "51                                  NaN  \n",
      "52                                  NaN  \n",
      "53                                  NaN  \n",
      "54                                  NaN  \n",
      "55                                  NaN  \n",
      "56                                  NaN  \n",
      "57                                  NaN  \n",
      "58                                  NaN  \n",
      "59                                  NaN  \n",
      "60                                  NaN  \n",
      "61                                  NaN  \n",
      "62                                  NaN  \n",
      "63                                  NaN  \n",
      "64                                  NaN  \n",
      "65                                  NaN  \n",
      "66                                  NaN  \n",
      "67                                  NaN  \n",
      "68                                  NaN  \n",
      "69                                  NaN  \n",
      "70                                  NaN  \n",
      "71                                  NaN  \n",
      "72                                  NaN  \n",
      "\n",
      "[73 rows x 54 columns]\n"
     ]
    }
   ],
   "source": [
    "##Reading the subjective data from the folder\n",
    "\n",
    "subjective_df = pd.read_csv('subjective_data.csv')\n",
    "subjective_df.index.name='record_id'\n",
    "subjective_df.columns = ['No_id','Participant_Record_id','Participant','Pre_post','Week','Day_number','Morning_1','Morning_2','In_lab','S1_Todays_date','S2_Time','S3_Bed_time', 'S4_Attempt_to_fall_asleep_min','S5_How_long_to_fall_asleep_min',\n",
    "'S6_Wake_up_time','S7_Sleep_duration_hours_min',\n",
    "'S8_Time_in_bed_before_getting_up_minutes',\n",
    "'S9_How_many_times_awake','WASO_minutes','S_10_Did_anything_disturb_your_sleep',\n",
    "'S_10_Noise','S_10_Work_duties',\n",
    "'S_10_Thoughts_on_mind','S_10_Toilet','S_10_Light',\n",
    "'S_10_Aches_pain_physical_discomfort','S_10_Air_temperature','S_10_Eletronic_media',\n",
    "'S_10_Other','S_11_Rate_quality_of_sleep','S_12_How_sleepy_you_have_felt_5_min',\n",
    "'S_13_Did_you_have_any_caffeine','S_13_Coffee_cups','S_13_Tea_cups',\n",
    "'S_13_Caffeinated_soft_drinks','S_13_Caffeine_pills_100mg','S_14_Did_you_have_any_alcohol','S_14_Beer','S_14_Wine_150mL','S_14_Spirits_30mL','S_15_Did_exercise','S_15_ow_many_times_exercised','S_15_When_exercised','S_15_For_how_long_exercised_minutes',\n",
    "'S_15_How_strenuous','S_16_Did_you_nap_yesterday','S_16_Nap_how_many_times','S_16_Nap_start','S_16_Nap_end','S_17_Did_you_take_sleep_pills','S_17_Type_of_medication',\n",
    "'S_18_How_many_times_removed_actiwatch','S_18_Actiwatch_removed_at','S_18_Actiwatch_put_back_on_at']\n",
    "subjective_df['S1_Todays_date'] = pd.to_datetime(subjective_df['S1_Todays_date'])\n",
    "subjective_df['S6_Wake_up_time'] = subjective_df['S6_Wake_up_time'].str.replace(\":\",\"\")\n",
    "subjective_df['S7_Sleep_duration_hours_min'] = subjective_df['S7_Sleep_duration_hours_min'].str.replace(\":\",\"\")\n",
    "subjective_df.columns = map(str.lower, subjective_df.columns)\n",
    "print(subjective_df)"
   ]
  },
  {
   "cell_type": "markdown",
   "metadata": {},
   "source": [
    "###  Inserting the subjective data to postgres database"
   ]
  },
  {
   "cell_type": "code",
   "execution_count": 27,
   "metadata": {
    "collapsed": false
   },
   "outputs": [],
   "source": [
    "## Inserting the subjective data to PostgresSQL database\n",
    "import sqlalchemy\n",
    "from sqlalchemy import create_engine \n",
    "engine = create_engine('postgresql://localhost:5432/SKalthur')\n",
    "#engine.execute(\"SET DateStyle ='mdy'\")\n",
    "subjective_df.to_sql('subjective_data', engine, if_exists = 'append')"
   ]
  },
  {
   "cell_type": "markdown",
   "metadata": {},
   "source": [
    "# Aggregate Data (PSG, Actigraphy and Subjective data)"
   ]
  },
  {
   "cell_type": "code",
   "execution_count": 170,
   "metadata": {
    "collapsed": false
   },
   "outputs": [],
   "source": [
    "##Code for reference of column names from aggregate view in postgresql \n",
    "##SELECT ps.\"Participant\" AS ps_participant,\n",
    "##     ps.\"Study Date\" AS ps_studydate,\n",
    "##     ps.\"Total Sleep_Time_min\" AS ps_tst_mins,\n",
    "##     ps.\"Sleep Latency_min\" AS ps_sol_mins,\n",
    "##     ps.\"Sleep Efficiency_Percent\" AS ps_se_perc,\n",
    "##     ps.\"Total Time_Awake_During_Sleep_Period_min\" AS ps_waso_mins,\n",
    "##     su.s1_todays_date AS su_s1_todays_date,\n",
    "##     su.s7_sleep_duration_hours_min AS su_sleep_duration_hours_min,\n",
    "##     su.s5_how_long_to_fall_asleep_min AS su_s5_how_long_to_fall_asleep_min,\n",
    "##     su.s3_bed_time_form AS su_s3_bed_time,\n",
    "##     su.s4_attempt_to_fall_asleep_min_form AS su_s4_attempt_to_fall_asleep_min,\n",
    "##     su.s6_wake_up_time_form AS su_s6_wake_up_time,\n",
    "##     su.s_11_rate_quality_of_sleep AS su_s_11_rate_quality_of_sleep,\n",
    "##     su.waso_minutes AS su_waso_mins,\n",
    "##     ar.actigraph_id AS ar_actigraph_id,\n",
    "##     ai.startdate AS ai_startdate,\n",
    "##     ai.sleeptime AS ai_tst_mins,\n",
    "##     ai.onsetlatency AS ai_sol_mins,\n",
    "##     ai.efficiency AS ai_se_mins,\n",
    "##     ai.waso AS ai_waso_mins\n",
    "##     FROM psg_data ps\n",
    "##     JOIN subjective_data su ON btrim(ps.\"Participant\") = btrim(su.participant::text)\n",
    "##     JOIN actiwatch_recording ar ON btrim(ps.\"Participant\") = btrim(ar.subject_id::text)\n",
    "##     JOIN actiwatch_interval_stats ai ON ar.actigraph_id = ai.actigraph_id AND to_date(ps.\"Study Date\", 'DD-MM-YYYY'::text) = ai.startdate;"
   ]
  },
  {
   "cell_type": "code",
   "execution_count": 165,
   "metadata": {
    "collapsed": false
   },
   "outputs": [
    {
     "name": "stdout",
     "output_type": "stream",
     "text": [
      "ps_participant                       object\n",
      "ps_studydate                         object\n",
      "ps_tst_mins                         float64\n",
      "ps_sol_mins                         float64\n",
      "ps_se_perc                          float64\n",
      "ps_waso_mins                        float64\n",
      "su_s1_todays_date                    object\n",
      "su_tst_mins                         float64\n",
      "su_sol_mins                           int64\n",
      "su_s3_bed_time                       object\n",
      "su_s4_attempt_to_fall_asleep_min     object\n",
      "su_s6_wake_up_time                   object\n",
      "su_s_11_rate_quality_of_sleep         int64\n",
      "su_waso_mins                        float64\n",
      "ar_actigraph_id                       int64\n",
      "ai_startdate                         object\n",
      "ai_tst_mins                         float64\n",
      "ai_sol_mins                          object\n",
      "ai_se_mins                           object\n",
      "ai_waso_mins                         object\n",
      "su_se_perc                          float64\n",
      "dtype: object\n"
     ]
    }
   ],
   "source": [
    "##Aggregate dataframe which is retrieved data from postgresql(PSG table, subjective data, actigraphy recording and actigraphy interval stats)\n",
    "aggregate_df = pd.read_sql_query(\"select * from aggregate_view\",con=engine)\n",
    "aggregate_df['ps_participant'] = aggregate_df['ps_participant'] + '_N1'\n",
    "aggregate_df['ps_participant']  = aggregate_df['ps_participant'].str.replace(' ', '')\n",
    "aggregate_df['ps_se_perc'] = aggregate_df['ps_se_perc'].apply(pd.to_numeric, errors = 'coerce')\n",
    "aggregate_df['su_sol_mins']= aggregate_df['su_sol_mins'].apply(pd.to_numeric, errors ='coerce')\n",
    "aggregate_df['su_tst_mins']= aggregate_df['su_tst_mins'].apply(pd.to_numeric, errors ='coerce')\n",
    "aggregate_df['su_waso_mins']= aggregate_df['su_waso_mins'].apply(pd.to_numeric, errors ='coerce')\n",
    "sum_var = aggregate_df['su_sol_mins']+aggregate_df['su_tst_mins']+aggregate_df['su_waso_mins']\n",
    "aggregate_df['su_se_perc'] = aggregate_df['su_tst_mins'].div(sum_var, axis = 'index')*100\n",
    "print(aggregate_df.dtypes)"
   ]
  },
  {
   "cell_type": "markdown",
   "metadata": {},
   "source": [
    "### Plotting temperature data with Subjective Bed time and Wake up time"
   ]
  },
  {
   "cell_type": "code",
   "execution_count": 166,
   "metadata": {
    "collapsed": false
   },
   "outputs": [],
   "source": [
    "##Reading the skintemperature data from Postgres sql         \n",
    "#x_df = pd.read_sql_query('select * from \"skintemperature_recording\"',con=engine)\n",
    "#print(x_df)\n",
    "\n",
    "temp_new_df = pd.read_sql_query(\"SELECT subject_id ,sensor_site, UNNEST(temp_value) as temp_val, start_time + interval '1 second' * sampling_interval * (generate_subscripts(temp_value, 1)-1) as starttime from skintemperature_recording\",con=engine)\n",
    "temp_plot_df = pd.merge(temp_new_df,aggregate_df, how='left',left_on='subject_id', right_on='ps_participant')\n",
    "\n",
    "##Selects particular subject from the temp_df for producing graph in the cells below\n",
    "temp_df_subset = temp_plot_df[temp_plot_df['subject_id'] == 'INS_WI_008_N1']\n",
    "temp_df_subset = temp_df_subset.reset_index(drop=True)"
   ]
  },
  {
   "cell_type": "code",
   "execution_count": 167,
   "metadata": {
    "collapsed": false
   },
   "outputs": [
    {
     "data": {
      "image/png": "[encoded data removed]",
      "text/plain": [
       "<matplotlib.figure.Figure at 0x130224eb8>"
      ]
     },
     "metadata": {},
     "output_type": "display_data"
    },
    {
     "data": {
      "image/png": "[encoded data removed]",
      "text/plain": [
       "<matplotlib.figure.Figure at 0x14e200588>"
      ]
     },
     "metadata": {},
     "output_type": "display_data"
    },
    {
     "data": {
      "image/png": "[encoded data removed]",
      "text/plain": [
       "<matplotlib.figure.Figure at 0x13c19e1d0>"
      ]
     },
     "metadata": {},
     "output_type": "display_data"
    },
    {
     "data": {
      "image/png": "[encoded data removed]",
      "text/plain": [
       "<matplotlib.figure.Figure at 0x13098b0f0>"
      ]
     },
     "metadata": {},
     "output_type": "display_data"
    },
    {
     "data": {
      "image/png": "[encoded data removed]",
      "text/plain": [
       "<matplotlib.figure.Figure at 0x133e306d8>"
      ]
     },
     "metadata": {},
     "output_type": "display_data"
    },
    {
     "data": {
      "image/png": "[encoded data removed]",
      "text/plain": [
       "<matplotlib.figure.Figure at 0x13d9e3ba8>"
      ]
     },
     "metadata": {},
     "output_type": "display_data"
    },
    {
     "data": {
      "image/png": "[encoded data removed]",
      "text/plain": [
       "<matplotlib.figure.Figure at 0x14d382fd0>"
      ]
     },
     "metadata": {},
     "output_type": "display_data"
    },
    {
     "data": {
      "image/png": "[encoded data removed]",
      "text/plain": [
       "<matplotlib.figure.Figure at 0x14da42be0>"
      ]
     },
     "metadata": {},
     "output_type": "display_data"
    },
    {
     "data": {
      "image/png": "[encoded data removed]",
      "text/plain": [
       "<matplotlib.figure.Figure at 0x1468143c8>"
      ]
     },
     "metadata": {},
     "output_type": "display_data"
    },
    {
     "data": {
      "image/png": "[encoded data removed]",
      "text/plain": [
       "<matplotlib.figure.Figure at 0x1468149e8>"
      ]
     },
     "metadata": {},
     "output_type": "display_data"
    },
    {
     "data": {
      "image/png": "[encoded data removed]",
      "text/plain": [
       "<matplotlib.figure.Figure at 0x14dbc8978>"
      ]
     },
     "metadata": {},
     "output_type": "display_data"
    },
    {
     "data": {
      "image/png": "[encoded data removed]",
      "text/plain": [
       "<matplotlib.figure.Figure at 0x147fa9ba8>"
      ]
     },
     "metadata": {},
     "output_type": "display_data"
    }
   ],
   "source": [
    "import matplotlib.pyplot as plt\n",
    "%matplotlib inline\n",
    "from ggplot import *\n",
    "for i, group in temp_df_subset.groupby(['sensor_site','subject_id']):\n",
    "    group.plot(x='starttime',y='temp_val', label = str(i))\n",
    "    plt.axvspan(*pd.to_datetime([temp_df_subset['su_s3_bed_time'][0],temp_df_subset['su_s6_wake_up_time'][0]]), color='y', alpha=0.5, lw=0)\n",
    "    plt.legend(loc = 'best')"
   ]
  },
  {
   "cell_type": "code",
   "execution_count": 168,
   "metadata": {
    "collapsed": false,
    "scrolled": true
   },
   "outputs": [
    {
     "data": {
      "image/png": "[encoded data removed]",
      "text/plain": [
       "<matplotlib.figure.Figure at 0x143109128>"
      ]
     },
     "metadata": {},
     "output_type": "display_data"
    }
   ],
   "source": [
    "import matplotlib.pyplot as plt\n",
    "%matplotlib inline\n",
    "from ggplot import *\n",
    "\n",
    "fig = plt.figure()\n",
    "graph = 0\n",
    "#group = temp_df.groupby(['sensor_site'])\n",
    "#group_site.plot(x='starttime',y='temp_val')\n",
    "\n",
    "for i, group in temp_df_subset.groupby('sensor_site'):\n",
    "    graph +=1\n",
    "    ax = fig.add_subplot(4,3, graph)\n",
    "\n",
    "    #group.plot(x='starttime',y='temp_val', label = str(i))\n",
    "    group.plot(x='starttime',y='temp_val', title = str(i), ax=ax,legend=None )\n",
    "\n",
    "plt.show()"
   ]
  },
  {
   "cell_type": "markdown",
   "metadata": {},
   "source": [
    "# Predictive Modeling "
   ]
  },
  {
   "cell_type": "markdown",
   "metadata": {},
   "source": [
    "### Classify Temperature data to Proximal and Distal. Calculate average temperature for both."
   ]
  },
  {
   "cell_type": "code",
   "execution_count": 184,
   "metadata": {
    "collapsed": false
   },
   "outputs": [
    {
     "name": "stdout",
     "output_type": "stream",
     "text": [
      "      subject_id  sensor_site_category_proximal  sensor_site_category_distal\n",
      "0  INS_WI_002_N1                      26.621430                    31.131067\n",
      "1  INS_WI_003_N1                      32.444851                    31.549097\n",
      "2  INS_WI_004_N1                      31.542985                    31.724996\n",
      "3  INS_WI_006_N1                      31.431163                    32.086136\n",
      "4  INS_WI_007_N1                      30.563694                    30.310103\n"
     ]
    }
   ],
   "source": [
    "##Reading the skintemperature data from Postgres sql using Select query     \n",
    "\n",
    "temp_df = pd.read_sql_query(\"SELECT subject_id ,sensor_site, UNNEST(temp_value) as temp_val, start_time + interval '1 second' * sampling_interval * (generate_subscripts(temp_value, 1)-1) as starttime from skintemperature_recording\",con=engine) \n",
    "\n",
    "\n",
    "##Converting the sensor_site to uppercase using str.upper()\n",
    "temp_df['sensor_site'] = temp_df['sensor_site'].str.upper()\n",
    "\n",
    "##Classifying temperature data to 'Proximal' and 'Distal' body part\n",
    "\n",
    "##Proximal body\n",
    "temp_df['sensor_site_category_proximal'] = 0\n",
    "temp_df['sensor_site_category_distal'] = 0\n",
    "temp_df.loc[temp_df['sensor_site'] == 'ABDOMEN', 'sensor_site_category_proximal'] = temp_df['temp_val']\n",
    "temp_df.loc[temp_df['sensor_site'] == 'CHEST', 'sensor_site_category_proximal'] = temp_df['temp_val']\n",
    "temp_df.loc[temp_df['sensor_site'] == 'FOREHEAD', 'sensor_site_category_proximal'] = temp_df['temp_val']\n",
    "temp_df.loc[temp_df['sensor_site'] == 'UPPERARM', 'sensor_site_category_proximal'] = temp_df['temp_val']\n",
    "temp_df.loc[temp_df['sensor_site'] == 'SCAPULA', 'sensor_site_category_proximal'] = temp_df['temp_val']\n",
    "temp_df.loc[temp_df['sensor_site'] == 'UPPERLEG', 'sensor_site_category_proximal'] = temp_df['temp_val']\n",
    "\n",
    "\n",
    "##Distal body\n",
    "temp_df.loc[temp_df['sensor_site'] == 'FINGERTIP', 'sensor_site_category_distal'] = temp_df['temp_val']\n",
    "temp_df.loc[temp_df['sensor_site'] == 'FOOT', 'sensor_site_category_distal'] = temp_df['temp_val']\n",
    "temp_df.loc[temp_df['sensor_site'] == 'HAND', 'sensor_site_category_distal'] = temp_df['temp_val']\n",
    "temp_df.loc[temp_df['sensor_site'] == 'TOE', 'sensor_site_category_distal'] = temp_df['temp_val']\n",
    "temp_df.loc[temp_df['sensor_site'] == 'CALF', 'sensor_site_category_distal'] = temp_df['temp_val']\n",
    "temp_df.loc[temp_df['sensor_site'] == 'FOREARM', 'sensor_site_category_distal'] = temp_df['temp_val']\n",
    "\n",
    "\n",
    "#temp_df.groupby(['sensor_site_category','subject_id'])\n",
    "#print(temp_df[temp_df['subject_id']=='INS_WI_001_N1'])\n",
    "temp_df = temp_df.groupby(['subject_id'], as_index=False).agg({'sensor_site_category_proximal': [np.mean],'sensor_site_category_distal': [np.mean]})\n",
    "\n",
    "\n",
    "\n",
    "# multiplying by 2 to offset the division by the total numbers\n",
    "temp_df['sensor_site_category_proximal'] = temp_df['sensor_site_category_proximal'] * 2\n",
    "temp_df['sensor_site_category_distal'] = temp_df['sensor_site_category_distal'] * 2\n",
    "\n",
    "\n",
    "#Since we are calculating the mean for proximal and distal multiindex levels are created, hence to drop this we r using \n",
    " #droplevel(1)\n",
    "#print(temp_df.index.nlevels)\n",
    "temp_df.columns = temp_df.columns.droplevel(1) \n",
    "print(temp_df.head(5))"
   ]
  },
  {
   "cell_type": "code",
   "execution_count": 185,
   "metadata": {
    "collapsed": false
   },
   "outputs": [
    {
     "name": "stdout",
     "output_type": "stream",
     "text": [
      "Index(['subject_id', 'sensor_site_category_proximal',\n",
      "       'sensor_site_category_distal', 'ps_participant', 'ps_studydate',\n",
      "       'ps_tst_mins', 'ps_sol_mins', 'ps_se_perc', 'ps_waso_mins',\n",
      "       'su_s1_todays_date', 'su_tst_mins', 'su_sol_mins', 'su_s3_bed_time',\n",
      "       'su_s4_attempt_to_fall_asleep_min', 'su_s6_wake_up_time',\n",
      "       'su_s_11_rate_quality_of_sleep', 'su_waso_mins', 'ar_actigraph_id',\n",
      "       'ai_startdate', 'ai_tst_mins', 'ai_sol_mins', 'ai_se_mins',\n",
      "       'ai_waso_mins', 'su_se_perc'],\n",
      "      dtype='object')\n"
     ]
    }
   ],
   "source": [
    "##Merging aggregate_df with the temperature data and performing the left join\n",
    "##Contains both aggregate and temperature dataframe data. Created new dataframe\n",
    " #Replace temp_df with temp_df_subset for producing graphs\n",
    "\n",
    "temp_aggregate_df = pd.merge(temp_df,aggregate_df, how='left',left_on='subject_id', right_on='ps_participant')\n",
    "\n",
    "#temp_aggregate_df.rename(index = str, columns = {('subject_id', ''): subject_id}) \n",
    "print(temp_aggregate_df.columns)\n",
    "\n"
   ]
  },
  {
   "cell_type": "markdown",
   "metadata": {},
   "source": [
    "### Feature Selection and Correlation with the Sleep quality(subjective_data)"
   ]
  },
  {
   "cell_type": "code",
   "execution_count": 186,
   "metadata": {
    "collapsed": false,
    "scrolled": true
   },
   "outputs": [
    {
     "name": "stdout",
     "output_type": "stream",
     "text": [
      "sensor_site_category_proximal    0.066090\n",
      "sensor_site_category_distal      0.121290\n",
      "ps_tst_mins                      0.041374\n",
      "ps_sol_mins                      0.067359\n",
      "ps_se_perc                      -0.222086\n",
      "ps_waso_mins                     0.285517\n",
      "ai_tst_mins                      0.291624\n",
      "su_tst_mins                     -0.240567\n",
      "su_sol_mins                      0.413827\n",
      "su_waso_mins                     0.221024\n",
      "su_se_perc                       0.092775\n",
      "su_s_11_rate_quality_of_sleep    1.000000\n",
      "Name: su_s_11_rate_quality_of_sleep, dtype: float64\n",
      "   sensor_site_category_proximal  sensor_site_category_distal  ps_tst_mins  \\\n",
      "0                       0.000000                     0.743837     0.586517   \n",
      "1                       0.643575                     0.855958     0.555056   \n",
      "2                       0.543906                     0.903137     1.000000   \n",
      "3                       0.531548                     1.000000     0.339326   \n",
      "4                       0.435679                     0.523642     0.175281   \n",
      "\n",
      "   ps_sol_mins  ps_se_perc  ps_waso_mins  ai_tst_mins  su_tst_mins  \\\n",
      "0     0.229773    0.507389      0.515349     0.223672     0.648649   \n",
      "1     0.776699    0.630542      0.204651     0.927307     0.789189   \n",
      "2     0.313916    0.862069      0.202791     0.658900     1.000000   \n",
      "3     0.588997    0.000000      0.896744     1.000000     0.324324   \n",
      "4     1.000000    0.344828      0.270698     0.000000     0.000000   \n",
      "\n",
      "   su_sol_mins  su_waso_mins  su_s_11_rate_quality_of_sleep  \n",
      "0     0.022222      0.000000                              5  \n",
      "1     0.111111      0.166667                              8  \n",
      "2     0.044444      0.000000                              3  \n",
      "3     1.000000      0.000000                              8  \n",
      "4     0.066667      0.000000                              5  \n"
     ]
    }
   ],
   "source": [
    "##For scaling of the data we are aggregating all the features from PSG,actigraphy and subjective then renaming to aggregate_feature_df\n",
    "\n",
    "from sklearn import preprocessing\n",
    "aggregate_feature_df = temp_aggregate_df[['sensor_site_category_proximal','sensor_site_category_distal','ps_tst_mins','ps_sol_mins','ps_se_perc','ps_waso_mins','ai_tst_mins','su_tst_mins','su_sol_mins','su_waso_mins','su_se_perc','su_s_11_rate_quality_of_sleep']]\n",
    "aggregate_feature_df['su_se_perc'].fillna(0,inplace=True)\n",
    "aggregate_feature_df['su_waso_mins'].fillna(0,inplace=True)\n",
    "aggregate_feature_df['su_tst_mins'].fillna(0,inplace=True)\n",
    "#print(aggregate_feature_df.ix[ :,0:10])\n",
    "\n",
    "##Applying Correlation for below features\n",
    "aggregate_feature_df_corr = aggregate_feature_df.corr(method ='pearson')[\"su_s_11_rate_quality_of_sleep\"]\n",
    "print(aggregate_feature_df_corr)\n",
    "\n",
    "\n",
    "\n",
    "##Scaling the data using Min and Max\n",
    "aggregate_feature_df_norm = (aggregate_feature_df.ix[ :,0:10] - aggregate_feature_df.ix[ :,0:10].min()) / (aggregate_feature_df.ix[ :,0:10].max() - aggregate_feature_df.ix[ :,0:10].min())\n",
    "\n",
    "#Combining aggregate_feature_df_norm data with the label from aggregate_feature_df dataframe\n",
    "aggregate_feature_df_norm = pd.concat([aggregate_feature_df_norm,aggregate_feature_df['su_s_11_rate_quality_of_sleep']], axis=1)\n",
    "print(aggregate_feature_df_norm.head(5))\n",
    "\n",
    "\n",
    "\n",
    "#x = df.values #returns a numpy array\n",
    "#min_max_scaler = preprocessing.MinMaxScaler()\n",
    "#x_scaled = min_max_scaler.fit_transform(x)\n",
    "#df = pandas.DataFrame(x_scaled)"
   ]
  },
  {
   "cell_type": "markdown",
   "metadata": {},
   "source": [
    "### Applying Training Algorithms"
   ]
  },
  {
   "cell_type": "markdown",
   "metadata": {},
   "source": [
    "### Linear Regression"
   ]
  },
  {
   "cell_type": "code",
   "execution_count": 149,
   "metadata": {
    "collapsed": false
   },
   "outputs": [
    {
     "name": "stdout",
     "output_type": "stream",
     "text": [
      "[array([-9.06902267,  1.30608983,  0.90502952,  7.87910725]), array([ 4.68575969,  2.95705071,  5.98825236,  5.94971994]), array([ 7.81378363,  4.26998173,  6.84614386,  6.86985451]), array([ 4.97490861,  4.01240458,  2.8340396 ]), array([ 4.27373681,  5.4860957 ,  9.25966895])]\n"
     ]
    }
   ],
   "source": [
    "##Applying Linear Regression with Kfold\n",
    "\n",
    "from sklearn.linear_model import LinearRegression\n",
    "from sklearn.cross_validation import KFold\n",
    "\n",
    "features = ['ps_tst_mins','ps_sol_mins','ps_se_perc','ps_waso_mins','ai_tst_mins','su_tst_mins','su_sol_mins','su_waso_mins','su_se_perc']\n",
    "\n",
    "alg = LinearRegression()\n",
    "kf = KFold(aggregate_feature_df_norm.shape[0], n_folds=5, random_state=1)\n",
    "\n",
    "predictions = []\n",
    "for train, test in kf:\n",
    "    train_features = (aggregate_feature_df_norm[features].iloc[train,:])\n",
    "    \n",
    "    train_label_quality = aggregate_feature_df_norm['su_s_11_rate_quality_of_sleep'].iloc[train]\n",
    "    \n",
    "    alg.fit(train_features, train_label_quality)\n",
    "    test_predictions = alg.predict(aggregate_feature_df_norm[features].iloc[test,:])\n",
    "    predictions.append(test_predictions)\n",
    "print(predictions)"
   ]
  },
  {
   "cell_type": "code",
   "execution_count": 147,
   "metadata": {
    "collapsed": false
   },
   "outputs": [
    {
     "name": "stdout",
     "output_type": "stream",
     "text": [
      "[-9.06902267  1.30608983  0.90502952  7.87910725  4.68575969  2.95705071\n",
      "  5.98825236  5.94971994  7.81378363  4.26998173  6.84614386  6.86985451\n",
      "  4.97490861  4.01240458  2.8340396   4.27373681  5.4860957   9.25966895]\n",
      "[-9.  1.  1.  8.  5.  3.  6.  6.  8.  4.  7.  7.  5.  4.  3.  4.  5.  9.]\n",
      "-7.88888888889\n"
     ]
    },
    {
     "name": "stderr",
     "output_type": "stream",
     "text": [
      "/Users/SKalthur/anaconda/lib/python3.5/site-packages/ipykernel/__main__.py:11: FutureWarning: in the future, boolean array-likes will be handled as a boolean array index\n"
     ]
    }
   ],
   "source": [
    "import numpy as np\n",
    "\n",
    "predictions = np.concatenate(predictions, axis=0)\n",
    "print(predictions)\n",
    "\n",
    "new_predictions = np.round(predictions)\n",
    "print(new_predictions)\n",
    "\n",
    "#predictions[predictions > .5] = 1\n",
    "#predictions[predictions <=.5] = 0\n",
    "accuracy = sum(new_predictions[new_predictions == aggregate_feature_df_norm['su_s_11_rate_quality_of_sleep']]) / len(predictions)\n",
    "print(accuracy)\n"
   ]
  },
  {
   "cell_type": "code",
   "execution_count": 181,
   "metadata": {
    "collapsed": false,
    "scrolled": false
   },
   "outputs": [
    {
     "name": "stdout",
     "output_type": "stream",
     "text": [
      "5     8\n",
      "1     6\n",
      "10    5\n",
      "2     5\n",
      "11    3\n",
      "17    5\n",
      "Name: su_s_11_rate_quality_of_sleep, dtype: int64\n",
      "[ 1  5  1  7 10  4]\n"
     ]
    }
   ],
   "source": [
    "#LinearRegression is performed after the dataframe has been split into Train and Test set\n",
    "from sklearn.cross_validation import train_test_split\n",
    "from sklearn.linear_model import LinearRegression\n",
    "import math\n",
    "import numpy as np\n",
    "\n",
    "# Creating a train and test split\n",
    "X_train, X_test, Y_train, Y_test = train_test_split(aggregate_feature_df_norm.ix[ :,0:9],aggregate_feature_df_norm['su_s_11_rate_quality_of_sleep'], test_size=0.33,random_state=5) # so we get the same results\n",
    "alg = LinearRegression()\n",
    "alg.fit(X_train, Y_train)\n",
    "test_predictions = np.round(alg.predict(X_test))\n",
    "test_predictions_int = test_predictions.astype(np.int64)\n",
    "print(Y_test)\n",
    "print(test_predictions_int)\n",
    "\n",
    "\n",
    "\n",
    "# Map predictions to outcomes (only possible outcomes are 1 and 0)\n",
    "predictions[predictions > .5] = 1\n",
    "predictions[predictions <=.5] = 0\n",
    "#accuracy = sum(new_predictions[new_predictions == aggregate_feature_df_norm['su_s_11_rate_quality_of_sleep']]) / len(predictions)\n",
    "#print(accuracy)\n",
    "\n",
    "\n",
    "\n",
    "\n",
    "\n",
    "\n"
   ]
  },
  {
   "cell_type": "markdown",
   "metadata": {},
   "source": [
    "### Logistic Regression"
   ]
  },
  {
   "cell_type": "code",
   "execution_count": 156,
   "metadata": {
    "collapsed": false
   },
   "outputs": [
    {
     "name": "stdout",
     "output_type": "stream",
     "text": [
      "   sensor_site_category_proximal  sensor_site_category_distal  ps_tst_mins  \\\n",
      "0                       0.000000                     0.743837     0.586517   \n",
      "1                       0.643575                     0.855958     0.555056   \n",
      "\n",
      "   ps_sol_mins  ps_se_perc  ps_waso_mins  ai_tst_mins  su_tst_mins  \\\n",
      "0     0.229773    0.507389      0.515349     0.223672     0.648649   \n",
      "1     0.776699    0.630542      0.204651     0.927307     0.789189   \n",
      "\n",
      "   su_sol_mins  su_waso_mins  su_s_11_rate_quality_of_sleep  \\\n",
      "0     0.022222      0.000000                              5   \n",
      "1     0.111111      0.166667                              8   \n",
      "\n",
      "   su_s_11_rate_quality_of_sleep_category  \n",
      "0                                       1  \n",
      "1                                       2  \n"
     ]
    }
   ],
   "source": [
    "## Creating categories for Sleep Quality data with 0, 1, 2 where 0 being the best sleep and 1 being niether good nor bad and 2 being worst sleep ever\n",
    "pd.options.mode.chained_assignment = None #default warn\n",
    "aggregate_feature_df_norm['su_s_11_rate_quality_of_sleep_category']=aggregate_feature_df_norm['su_s_11_rate_quality_of_sleep']\n",
    "aggregate_feature_df_norm['su_s_11_rate_quality_of_sleep_category'][(aggregate_feature_df_norm['su_s_11_rate_quality_of_sleep'] <= 3)] = 0\n",
    "aggregate_feature_df_norm['su_s_11_rate_quality_of_sleep_category'][(aggregate_feature_df_norm['su_s_11_rate_quality_of_sleep'] >3) & (aggregate_feature_df_norm['su_s_11_rate_quality_of_sleep'] <= 6)] = 1\n",
    "aggregate_feature_df_norm['su_s_11_rate_quality_of_sleep_category'][(aggregate_feature_df_norm['su_s_11_rate_quality_of_sleep'] >6) & (aggregate_feature_df_norm['su_s_11_rate_quality_of_sleep'] <= 9)] = 2\n",
    "print(aggregate_feature_df_norm.head(2))"
   ]
  },
  {
   "cell_type": "code",
   "execution_count": 158,
   "metadata": {
    "collapsed": false
   },
   "outputs": [
    {
     "name": "stdout",
     "output_type": "stream",
     "text": [
      "Intercept: [-0.50176681  0.28522816 -0.49364756]\n",
      "Coefficients:\n",
      " [[ -1.62386830e-01  -9.33794827e-02  -5.41029728e-01  -4.30078885e-01\n",
      "   -2.56506493e-01  -2.76791375e-01  -1.06933602e-01   1.19633510e-02\n",
      "   -2.55228156e-01  -8.97456202e-02]\n",
      " [ -6.46517605e-02  -4.37473839e-01   3.62531844e-01   5.18119116e-01\n",
      "    4.86083541e-01  -3.03411088e-01  -2.16921029e-01  -1.74933938e-01\n",
      "   -1.81850055e-01   1.00532117e-02]\n",
      " [ -1.27752009e-01   1.54972270e-01  -6.92760789e-02  -4.16630723e-01\n",
      "   -6.26257874e-01   3.73411385e-01   4.97086086e-02  -1.92392609e-01\n",
      "    3.50318559e-01  -3.54323266e-05]]\n",
      "\n",
      "Predicted values for first five people : [1 1 1 1 1]\n",
      "Actuals values for first five people from test split: 5     1\n",
      "1     2\n",
      "10    1\n",
      "2     0\n",
      "11    1\n",
      "Name: su_s_11_rate_quality_of_sleep_category, dtype: int64\n",
      "0.666666666667\n"
     ]
    }
   ],
   "source": [
    "## Performing Logistic Regression\n",
    "\n",
    "from sklearn.cross_validation import train_test_split\n",
    "from sklearn.linear_model import LogisticRegression\n",
    "\n",
    "# Creating a train and test split\n",
    "X_train, X_test, Y_train, Y_test = train_test_split(aggregate_feature_df_norm.ix[ :,0:10],aggregate_feature_df_norm['su_s_11_rate_quality_of_sleep_category'], test_size=0.33,random_state=5) # so we get the same results\n",
    "\n",
    "\n",
    "# Fitting data with train and train labels\n",
    "logreg = LogisticRegression()\n",
    "_ = logreg.fit(X_train, Y_train)\n",
    "print('Intercept:', logreg.intercept_)\n",
    "print('Coefficients:\\n', logreg.coef_)\n",
    "\n",
    "\n",
    "# We can predict the sleep quality\n",
    "print('\\nPredicted values for first five people :', logreg.predict(X_test)[:5])\n",
    "print('Actuals values for first five people from test split:', Y_test[:5])\n",
    "\n",
    "\n",
    "# Calculating the Accuracy using sklearn metrics to predict accuracy.\n",
    "from sklearn.metrics import accuracy_score\n",
    "a = accuracy_score(Y_test, logreg.predict(X_test))\n",
    "print(a)\n"
   ]
  },
  {
   "cell_type": "code",
   "execution_count": 159,
   "metadata": {
    "collapsed": false
   },
   "outputs": [
    {
     "name": "stdout",
     "output_type": "stream",
     "text": [
      "Confusion Matrix:\n",
      "[[0 1 0]\n",
      " [0 4 0]\n",
      " [0 1 0]]\n"
     ]
    },
    {
     "data": {
      "image/png": "[encoded data removed]",
      "text/plain": [
       "<matplotlib.figure.Figure at 0x1387e3f98>"
      ]
     },
     "metadata": {},
     "output_type": "display_data"
    }
   ],
   "source": [
    "# Applying confusion matrix for logistic regression\n",
    "from sklearn.metrics import classification_report, confusion_matrix\n",
    "import matplotlib.pyplot as plt\n",
    "print(\"Confusion Matrix:\\n%s\" % confusion_matrix(Y_test, logreg.predict(X_test)))\n",
    "\n",
    "_ = plt.matshow(confusion_matrix(Y_test, logreg.predict(X_test)), cmap=plt.cm.binary, interpolation='nearest')\n",
    "_ = plt.colorbar()\n",
    "_ = plt.ylabel('true label')\n",
    "_ = plt.xlabel('predicted label')"
   ]
  },
  {
   "cell_type": "markdown",
   "metadata": {},
   "source": [
    "# Verification of File Formats for Initial Load of data"
   ]
  },
  {
   "cell_type": "markdown",
   "metadata": {},
   "source": [
    "### Verfying whether Fingertip Temperature File is in correct format"
   ]
  },
  {
   "cell_type": "code",
   "execution_count": 171,
   "metadata": {
    "collapsed": false,
    "scrolled": true
   },
   "outputs": [
    {
     "name": "stdout",
     "output_type": "stream",
     "text": [
      "Fingertip_INS_WI_002_N1 \n",
      "Fingertip_INS_WI_003_N1 \n",
      "Fingertip_INS_WI_004_N1 \n",
      "Fingertip_INS_WI_006_N1 \n",
      "Fingertip_INS_WI_007_N1 \n",
      "Fingertip_INS_WI_008_N1 \n",
      "FINGERTIP_INS_WI_011_N1 \n",
      "Fingertip_INS_WI_012_N1 \n",
      "Fingertip_INS_WI_013_N1 \n",
      "Fingertip_INS_WI_017_N1 \n",
      "Fingertip_INS_WI_019_N1\n",
      "Fingertip_INS_WI_020_N1 \n",
      "Fingertip_INS_WI_021_N1 \n",
      "Fingertip_INS_WI_022_N1 \n",
      "Fingertip_INS_WI_025_N1 \n",
      "Fingertip_INS_WI_026_N1 \n",
      "Fingertip_INS_WI_030_N1 \n",
      "Fingertip_INS_WI_032_N1 \n"
     ]
    }
   ],
   "source": [
    "verify = !ls ./Documents/Semester2/Projects/Insomnia/newskintemp/INS_WI*/*[Ff][Ii][Nn][Gg][Ee][Rr]*.xlsx\n",
    "\n",
    "for f in verify:\n",
    "    file_df = pd.read_excel(f)\n",
    "    filename = file_df['Unnamed: 1'][2]\n",
    "    print(filename)"
   ]
  },
  {
   "cell_type": "markdown",
   "metadata": {},
   "source": [
    "### Verfying whether Abdomen Temperature File is in correct format"
   ]
  },
  {
   "cell_type": "code",
   "execution_count": 172,
   "metadata": {
    "collapsed": false
   },
   "outputs": [
    {
     "name": "stdout",
     "output_type": "stream",
     "text": [
      "Abdomen_INS_WI_002_N1 \n",
      "Abdomen_INS_WI_003_N1 \n",
      "Abdomen_INS_WI_004_N1 \n",
      "Abdomen_INS_WI_006_N1 \n",
      "Abdomen_INS_WI_007_N1 \n",
      "Abdomen_INS_WI_008_N1 \n",
      "ABDOMEN_INS_WI_011_N1 \n",
      "Abdomen_INS_WI_012_N1 \n",
      "Abdomen_INS_WI_013_N1 \n",
      "Abdomen_INS_WI_017_N1 \n",
      "Abdomen_INS_WI_019_N1 \n",
      "Abdomen_INS_WI_020_N1 \n",
      "Abdomen_INS_WI_021_N1 \n",
      "Abdomen_INS_WI_022_N1 \n",
      "Abdomen_INS_WI_025_N1 \n",
      "Abdomen_INS_WI_026_N1 \n",
      "Abdomen_INS_WI_030_N1 \n",
      "Abdomen_INS_WI_032_N1 \n"
     ]
    }
   ],
   "source": [
    "verify = !ls ./Documents/Semester2/Projects/Insomnia/newskintemp/INS_WI*/*[Aa][Bb][Dd][Oo][Mm][Ee][Nn]*.xlsx\n",
    "\n",
    "for f in verify:\n",
    "    file_df = pd.read_excel(f)\n",
    "    filename = file_df['Unnamed: 1'][2]\n",
    "    print(filename)"
   ]
  },
  {
   "cell_type": "markdown",
   "metadata": {},
   "source": [
    "### Verfying whether Calf Temperature File is in correct format"
   ]
  },
  {
   "cell_type": "code",
   "execution_count": 173,
   "metadata": {
    "collapsed": false
   },
   "outputs": [
    {
     "name": "stdout",
     "output_type": "stream",
     "text": [
      "Calf_INS_WI_002_N1 \n",
      "Calf_INS_WI_003_N1 \n",
      "Calf_INS_WI_004_N1 \n",
      "Calf_INS_WI_006_N1 \n",
      "Calf_INS_WI_007_N1 \n",
      "Calf_INS_WI_008_N1 \n",
      "CALF_INS_WI_011_N1 \n",
      "Calf_INS_WI_012_N1 \n",
      "Calf_INS_WI_013_N1 \n",
      "Calf_INS_WI_017_N1 \n",
      "Calf_INS_WI_019_N1 \n",
      "Calf_INS_WI_020_N1 \n",
      "Calf_INS_WI_021_N1 \n",
      "Calf_INS_WI_022_N1 \n",
      "Calf_INS_WI_025_N1 \n",
      "Calf_INS_WI_026_N1 \n",
      "Calf_INS_WI_030_N1 \n",
      "Calf_INS_WI_032_N1 \n"
     ]
    }
   ],
   "source": [
    "verify = !ls ./Documents/Semester2/Projects/Insomnia/newskintemp/INS_WI*/*[Cc][Aa][Ll][Ff]*.xlsx\n",
    "\n",
    "for f in verify:\n",
    "    file_df = pd.read_excel(f)\n",
    "    filename = file_df['Unnamed: 1'][2]\n",
    "    print(filename)"
   ]
  },
  {
   "cell_type": "markdown",
   "metadata": {},
   "source": [
    "### Verfying whether Chest Temperature File is in correct format"
   ]
  },
  {
   "cell_type": "code",
   "execution_count": 174,
   "metadata": {
    "collapsed": false
   },
   "outputs": [
    {
     "name": "stdout",
     "output_type": "stream",
     "text": [
      "Chest_INS_WI_002_N1 \n",
      "Chest_INS_WI_003_N1 \n",
      "Chest_INS_WI_004_N1 \n",
      "Chest_INS_WI_006_N1 \n",
      "Chest_INS_WI_007_N1 \n",
      "Chest_INS_WI_008_N1 \n",
      "CHEST_INS_WI_011_N1 \n",
      "Chest_INS_WI_012_N1 \n",
      "Chest_INS_WI_013_N1 \n",
      "Chest_INS_WI_017_N1 \n",
      "Chest_INS_WI_019_N1 \n",
      "Chest_INS_WI_020_N1 \n",
      "Chest_INS_WI_021_N1 \n",
      "Chest_INS_WI_022_N1 \n",
      "Chest_INS_WI_025_N1 \n",
      "Chest_INS_WI_026_N1 \n",
      "Chest_INS_WI_030_N1 \n",
      "Chest_INS_WI_032_N1 \n"
     ]
    }
   ],
   "source": [
    "verify = !ls ./Documents/Semester2/Projects/Insomnia/newskintemp/INS_WI*/*[Cc][Hh][Ee][Ss][Tt]*.xlsx\n",
    "\n",
    "for f in verify:\n",
    "    file_df = pd.read_excel(f)\n",
    "    filename = file_df['Unnamed: 1'][2]\n",
    "    print(filename)"
   ]
  },
  {
   "cell_type": "markdown",
   "metadata": {},
   "source": [
    "### Verfying whether Foot Temperature File is in correct format"
   ]
  },
  {
   "cell_type": "code",
   "execution_count": 175,
   "metadata": {
    "collapsed": false
   },
   "outputs": [
    {
     "name": "stdout",
     "output_type": "stream",
     "text": [
      "Foot_INS_WI_002_N1 \n",
      "Foot_INS_WI_003_N1 \n",
      "Foot_INS_WI_004_N1 \n",
      "Foot_INS_WI_006_N1 \n",
      "Foot_INS_WI_007_N1 \n",
      "Foot_INS_WI_008_N1 \n",
      "FOOT_INS_WI_011_N1 \n",
      "Foot_INS_WI_012_N1 \n",
      "Foot_INS_WI_013_N1 \n",
      "Foot_INS_WI_017_N1 \n",
      "Foot_INS_WI_019_N1\n",
      "Foot_INS_WI_020_N1 \n",
      "Foot_INS_WI_021_N1 \n",
      "Foot_INS_WI_022_N1 \n",
      "Foot_INS_WI_025_N1 \n",
      "Foot_INS_WI_026_N1 \n",
      "Foot_INS_WI_030_N1 \n",
      "Foot_INS_WI_032_N1 \n"
     ]
    }
   ],
   "source": [
    "verify = !ls ./Documents/Semester2/Projects/Insomnia/newskintemp/INS_WI*/*[Ff][Oo][Oo][Tt]*.xlsx\n",
    "#verify = !ls ./Documents/Semester2/Projects/Insomnia/newskintemp/INS_WI*/*[Ff][Oo][Oo][Tt]*_032_N1*.xlsx\n",
    "\n",
    "for f in verify:\n",
    "    file_df = pd.read_excel(f)\n",
    "    filename = file_df['Unnamed: 1'][2]\n",
    "    print(filename)"
   ]
  },
  {
   "cell_type": "markdown",
   "metadata": {},
   "source": [
    "### Verfying whether Forearm Temperature File is in correct format"
   ]
  },
  {
   "cell_type": "code",
   "execution_count": 176,
   "metadata": {
    "collapsed": false
   },
   "outputs": [
    {
     "name": "stdout",
     "output_type": "stream",
     "text": [
      "Forearm_INS_WI_002_N1 \n",
      "Forearm_INS_WI_003_N1 \n",
      "Forearm_INS_WI_004_N1 \n",
      "Forearm_INS_WI_006_N1 \n",
      "Forearm_INS_WI_007_N1 \n",
      "Forearm_INS_WI_008_N1 \n",
      "FOREARM_INS_WI_011_N1 \n",
      "ForeArm_INS_WI_012_N1 \n",
      "Forearm_INS_WI_013_N1 \n",
      "Forearm_INS_WI_017_N1 \n",
      "Forearm_INS_WI_019_N1 \n",
      "Forearm_INS_WI_020_N1 \n",
      "Forearm_INS_WI_021_N1 \n",
      "Forearm_INS_WI_022_N1 \n",
      "Forearm_INS_WI_025_N1 \n",
      "Forearm_INS_WI_026_N1 \n",
      "Forearm_INS_WI_030_N1 \n",
      "Forearm_INS_WI_032_N1 \n"
     ]
    }
   ],
   "source": [
    "verify = !ls ./Documents/Semester2/Projects/Insomnia/newskintemp/INS_WI*/*[Ff][Oo][Rr][Ee][Aa][Rr][Mm]*.xlsx\n",
    "\n",
    "for f in verify:\n",
    "    file_df = pd.read_excel(f)\n",
    "    filename = file_df['Unnamed: 1'][2]\n",
    "    print(filename)"
   ]
  },
  {
   "cell_type": "markdown",
   "metadata": {},
   "source": [
    "### Verfying whether Forehead Temperature File is in correct format"
   ]
  },
  {
   "cell_type": "code",
   "execution_count": 177,
   "metadata": {
    "collapsed": false
   },
   "outputs": [
    {
     "name": "stdout",
     "output_type": "stream",
     "text": [
      "Forehead_INS_WI_002_N1 \n",
      "Forehead_INS_WI_003_N1 \n",
      "Forehead_INS_WI_004_N1 \n",
      "Forehead_INS_WI_006_N1 \n",
      "Forehead_INS_WI_007_N1 \n",
      "Forehead_INS_WI_008_N1 \n",
      "FOREHEAD_INS_WI_011_N1 \n",
      "Forehead_INS_WI_012_N1 \n",
      "Forehead_INS_WI_013_N1 \n",
      "Forehead_INS_WI_017_N1 \n",
      "Forehead_INS_WI_019_N1 \n",
      "Forehead_INS_WI_020_N1 \n",
      "Forehead_INS_WI_021_N1 \n",
      "Forehead_INS_WI_022_N1 \n",
      "Forehead_INS_WI_025_N1 \n",
      "Forehead_INS_WI_026_N1 \n",
      "Forehead_INS_WI_030_N1 \n",
      "Forehead_INS_WI_032_N1 \n"
     ]
    }
   ],
   "source": [
    "verify = !ls ./Documents/Semester2/Projects/Insomnia/newskintemp/INS_WI*/*[Ff][Oo][Rr][Ee][Hh][Ee][Aa][Dd]*.xlsx\n",
    "\n",
    "for f in verify:\n",
    "    file_df = pd.read_excel(f)\n",
    "    filename = file_df['Unnamed: 1'][2]\n",
    "    print(filename)"
   ]
  },
  {
   "cell_type": "markdown",
   "metadata": {},
   "source": [
    "### Verfying whether Hand Temperature File is in correct format"
   ]
  },
  {
   "cell_type": "code",
   "execution_count": 178,
   "metadata": {
    "collapsed": false
   },
   "outputs": [
    {
     "name": "stdout",
     "output_type": "stream",
     "text": [
      "Hand_INS_WI_002_N1 \n",
      "hand_INS_WI_003_N1 \n",
      "Hand_INS_WI_004_N1 \n",
      "Hand_INS_WI_006_N1 \n",
      "Hand_INS_WI_007_N1 \n",
      "Hand_INS_WI_008_N1 \n",
      "HAND_INS_WI_011_N1 \n",
      "Hand_INS_WI_012_N1 \n",
      "Hand_INS_WI_013_N1 \n",
      "Hand_INS_WI_017_N1 \n",
      "Hand_INS_WI_019_N1 \n",
      "Hand_INS_WI_021_N1 \n",
      "Hand_INS_WI_022_N1 \n",
      "Hand_INS_WI_025_N1 \n",
      "Hand_INS_WI_026_N1 \n",
      "Hand_INS_WI_030_N1 \n",
      "Hand_INS_WI_032_N1 \n"
     ]
    }
   ],
   "source": [
    "verify = !ls ./Documents/Semester2/Projects/Insomnia/newskintemp/INS_WI*/*[Hh][Aa][Nn][Dd]*.xlsx\n",
    "\n",
    "for f in verify:\n",
    "    file_df = pd.read_excel(f)\n",
    "    filename = file_df['Unnamed: 1'][2]\n",
    "    print(filename)"
   ]
  },
  {
   "cell_type": "markdown",
   "metadata": {},
   "source": [
    "### Verfying whether Scapula Temperature File is in correct format"
   ]
  },
  {
   "cell_type": "code",
   "execution_count": 179,
   "metadata": {
    "collapsed": false
   },
   "outputs": [
    {
     "name": "stdout",
     "output_type": "stream",
     "text": [
      "Scapula_INS_WI_002_N1 \n",
      "Scapula_INS_WI_003_N1 \n",
      "Scapula_INS_WI_004_N1 \n",
      "Scapula_INS_WI_006_N1 \n",
      "Scapula_INS_WI_007_N1 \n",
      "Scapula_INS_WI_008_N1 \n",
      "SCAPULA_INS_WI_011_N1 \n",
      "Scapula_INS_WI_012_N1 \n",
      "Scapula_INS_WI_013_N1 \n",
      "Scapula_INS_WI_017_N1 \n",
      "Scapula_INS_WI_019_N1 \n",
      "Scapula_INS_WI_020_N1 \n",
      "Scapula_INS_WI_021_N1 \n",
      "Scapula_INS_WI_022_N1 \n",
      "Scapula_INS_WI_025_N1 \n",
      "Scapula_INS_WI_026_N1 \n",
      "Scapula_INS_WI_030_N1 \n",
      "Scapula_INS_WI_032_N1 \n"
     ]
    }
   ],
   "source": [
    "verify = !ls ./Documents/Semester2/Projects/Insomnia/newskintemp/INS_WI*/*[Ss][Cc][Aa][Pp][Uu][Ll][Aa]*.xlsx\n",
    "\n",
    "for f in verify:\n",
    "    file_df = pd.read_excel(f)\n",
    "    filename = file_df['Unnamed: 1'][2]\n",
    "    print(filename)"
   ]
  },
  {
   "cell_type": "markdown",
   "metadata": {},
   "source": [
    "### Verfying whether Toe Temperature File is in correct format"
   ]
  },
  {
   "cell_type": "code",
   "execution_count": 180,
   "metadata": {
    "collapsed": false
   },
   "outputs": [
    {
     "name": "stdout",
     "output_type": "stream",
     "text": [
      "Toe_INS_WI_002_N1 \n",
      "Toe_INS_WI_003_N1 \n",
      "Toe_INS_WI_004_N1 \n",
      "Toe_INS_WI_006_N1 \n",
      "Toe_INS_WI_007_N1 \n",
      "Toe_INS_WI_008_N1 \n",
      "TOE_INS_WI_011_N1 \n",
      "Toe_INS_WI_012_N1 \n",
      "Toe_INS_WI_017_N1 \n",
      "Toe_INS_WI_019_N1 \n",
      "Toe_INS_WI_020_N1 \n",
      "Toe_INS_WI_021_N1 \n",
      "Toe_INS_WI_022_N1 \n",
      "Toe_INS_WI_025_N1 \n",
      "Toe_INS_WI_026_N1 \n",
      "Toe_INS_WI_030_N1 \n",
      "Toe_INS_WI_032_N1 \n"
     ]
    }
   ],
   "source": [
    "verify = !ls ./Documents/Semester2/Projects/Insomnia/newskintemp/INS_WI*/*[Tt][Oo][Ee]*.xlsx\n",
    "#verify = !ls ./Documents/Semester2/Projects/Insomnia/newskintemp/INS_WI*/*[Tt][Oo][Ee]*_006_N1*.xlsx\n",
    "\n",
    "\n",
    "\n",
    "for f in verify:\n",
    "    file_df = pd.read_excel(f)\n",
    "    filename = file_df['Unnamed: 1'][2]\n",
    "    print(filename)"
   ]
  },
  {
   "cell_type": "markdown",
   "metadata": {},
   "source": [
    "### Verfying whether Upperarm Temperature File is in correct format"
   ]
  },
  {
   "cell_type": "code",
   "execution_count": 182,
   "metadata": {
    "collapsed": false
   },
   "outputs": [
    {
     "name": "stdout",
     "output_type": "stream",
     "text": [
      "UpperArm_INS_WI_002_N1 \n",
      "UpperArm_INS_WI_003_N1 \n",
      "UpperArm_INS_WI_004_N1 \n",
      "Upperarm_INS_WI_006_N1 \n",
      "Upperarm_INS_WI_007_N1 \n",
      "UpperArm_INS_WI_008_N1 \n",
      "UPPERARM_INS_WI_011_N1 \n",
      "UpperArm_INS_WI_012_N1 \n",
      "UpperArm_INS_WI_013_N1 \n",
      "Upperarm_INS_WI_017_N1 \n",
      "Upperarm_INS_WI_019_N1 \n",
      "Upperarm_INS_WI_020_N1 \n",
      "Upperarm_INS_WI_021_N1 \n",
      "Upperarm_INS_WI_022_N1 \n",
      "Upperarm_INS_WI_025_N1 \n",
      "Upperarm_INS_WI_026_N1 \n",
      "Upperarm_INS_WI_030_N1 \n",
      "Upperarm_INS_WI_032_N1 \n"
     ]
    }
   ],
   "source": [
    "verify = !ls ./Documents/Semester2/Projects/Insomnia/newskintemp/INS_WI*/*[Uu][Pp][Pp][Ee][Rr][Aa][Rr][Mm]*.xlsx\n",
    "\n",
    "for f in verify:\n",
    "    file_df = pd.read_excel(f)\n",
    "    filename = file_df['Unnamed: 1'][2]\n",
    "    print(filename)"
   ]
  },
  {
   "cell_type": "markdown",
   "metadata": {},
   "source": [
    "### Verfying whether UpperLeg Temperature File is in correct format"
   ]
  },
  {
   "cell_type": "code",
   "execution_count": 183,
   "metadata": {
    "collapsed": false
   },
   "outputs": [
    {
     "name": "stdout",
     "output_type": "stream",
     "text": [
      "UpperLeg_INS_WI_003_N1 \n",
      "Upperleg_INS_WI_004_N1 \n",
      "Upperleg_INS_WI_006_N1 \n",
      "Upperleg_INS_WI_007_N1 \n",
      "UpperLeg_INS_WI_008_N1 \n",
      "UPPERLEG_INS_WI_011_N1 \n",
      "Upperleg_INS_WI_012_N1 \n",
      "UpperLeg_INS_WI_013_N1 \n",
      "Upperleg_INS_WI_017_N1 \n",
      "Upperleg_INS_WI_019_N1 \n",
      "Upperleg_INS_WI_020_N1 \n",
      "Upperleg_INS_WI_021_N1 \n",
      "Upperleg_INS_WI_022_N1 \n",
      "Upperleg_INS_WI_025_N1 \n",
      "Upperleg_INS_WI_026_N1 \n",
      "Upperleg_INS_WI_030_N1 \n",
      "Upperleg_INS_WI_032_N1 \n"
     ]
    }
   ],
   "source": [
    "verify = !ls ./Documents/Semester2/Projects/Insomnia/newskintemp/INS_WI*/*[Uu][Pp][Pp][Ee][Rr][Ll][]Ee][Gg]*.xlsx\n",
    "\n",
    "for f in verify:\n",
    "    file_df = pd.read_excel(f)\n",
    "    filename = file_df['Unnamed: 1'][2]\n",
    "    print(filename)"
   ]
  }
 ],
 "metadata": {
  "kernelspec": {
   "display_name": "Python 3",
   "language": "python",
   "name": "python3"
  },
  "language_info": {
   "codemirror_mode": {
    "name": "ipython",
    "version": 3
   },
   "file_extension": ".py",
   "mimetype": "text/x-python",
   "name": "python",
   "nbconvert_exporter": "python",
   "pygments_lexer": "ipython3",
   "version": "3.5.2"
  }
 },
 "nbformat": 4,
 "nbformat_minor": 0
}
